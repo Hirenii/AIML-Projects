{
 "cells": [
  {
   "cell_type": "code",
   "execution_count": 6,
   "id": "2264af62-d65e-432f-9dea-8ed19f25546a",
   "metadata": {},
   "outputs": [],
   "source": [
    "import numpy as np\n",
    "import pandas as pd\n",
    "from tqdm import tqdm"
   ]
  },
  {
   "cell_type": "code",
   "execution_count": 7,
   "id": "0789fdf2-4083-4f2d-aed7-0b7af5f8f3ec",
   "metadata": {},
   "outputs": [],
   "source": [
    "data = pd.read_csv(\"movies.csv\")"
   ]
  },
  {
   "cell_type": "code",
   "execution_count": 8,
   "id": "c6aa0e11-22fb-4550-8efb-4544636216fc",
   "metadata": {},
   "outputs": [
    {
     "data": {
      "text/html": [
       "<div>\n",
       "<style scoped>\n",
       "    .dataframe tbody tr th:only-of-type {\n",
       "        vertical-align: middle;\n",
       "    }\n",
       "\n",
       "    .dataframe tbody tr th {\n",
       "        vertical-align: top;\n",
       "    }\n",
       "\n",
       "    .dataframe thead th {\n",
       "        text-align: right;\n",
       "    }\n",
       "</style>\n",
       "<table border=\"1\" class=\"dataframe\">\n",
       "  <thead>\n",
       "    <tr style=\"text-align: right;\">\n",
       "      <th></th>\n",
       "      <th>name</th>\n",
       "      <th>studio</th>\n",
       "      <th>score</th>\n",
       "      <th>story</th>\n",
       "      <th>genre</th>\n",
       "      <th>year</th>\n",
       "    </tr>\n",
       "  </thead>\n",
       "  <tbody>\n",
       "    <tr>\n",
       "      <th>0</th>\n",
       "      <td>Spider-Man 3</td>\n",
       "      <td>Sony</td>\n",
       "      <td>54.0</td>\n",
       "      <td>Metamorphosis</td>\n",
       "      <td>Action</td>\n",
       "      <td>2007</td>\n",
       "    </tr>\n",
       "    <tr>\n",
       "      <th>1</th>\n",
       "      <td>Shrek the Third</td>\n",
       "      <td>Paramount</td>\n",
       "      <td>57.0</td>\n",
       "      <td>Quest</td>\n",
       "      <td>Animation</td>\n",
       "      <td>2007</td>\n",
       "    </tr>\n",
       "    <tr>\n",
       "      <th>2</th>\n",
       "      <td>Transformers</td>\n",
       "      <td>Paramount</td>\n",
       "      <td>89.0</td>\n",
       "      <td>Monster Force</td>\n",
       "      <td>Action</td>\n",
       "      <td>2007</td>\n",
       "    </tr>\n",
       "    <tr>\n",
       "      <th>3</th>\n",
       "      <td>Pirates of the Caribbean: At World's End</td>\n",
       "      <td>Disney</td>\n",
       "      <td>74.0</td>\n",
       "      <td>Rescue</td>\n",
       "      <td>Action</td>\n",
       "      <td>2007</td>\n",
       "    </tr>\n",
       "    <tr>\n",
       "      <th>4</th>\n",
       "      <td>Harry Potter and the Order of the Phoenix</td>\n",
       "      <td>Warner Bros</td>\n",
       "      <td>82.0</td>\n",
       "      <td>Quest</td>\n",
       "      <td>Adventure</td>\n",
       "      <td>2007</td>\n",
       "    </tr>\n",
       "  </tbody>\n",
       "</table>\n",
       "</div>"
      ],
      "text/plain": [
       "                                        name       studio  score  \\\n",
       "0                               Spider-Man 3         Sony   54.0   \n",
       "1                            Shrek the Third    Paramount   57.0   \n",
       "2                               Transformers    Paramount   89.0   \n",
       "3   Pirates of the Caribbean: At World's End       Disney   74.0   \n",
       "4  Harry Potter and the Order of the Phoenix  Warner Bros   82.0   \n",
       "\n",
       "           story      genre  year  \n",
       "0  Metamorphosis     Action  2007  \n",
       "1          Quest  Animation  2007  \n",
       "2  Monster Force     Action  2007  \n",
       "3         Rescue     Action  2007  \n",
       "4          Quest  Adventure  2007  "
      ]
     },
     "execution_count": 8,
     "metadata": {},
     "output_type": "execute_result"
    }
   ],
   "source": [
    "data.head()"
   ]
  },
  {
   "cell_type": "code",
   "execution_count": 9,
   "id": "aef3a71b-011c-4bc0-a3bf-da4f264153cb",
   "metadata": {},
   "outputs": [
    {
     "name": "stdout",
     "output_type": "stream",
     "text": [
      "<class 'pandas.core.frame.DataFrame'>\n",
      "RangeIndex: 970 entries, 0 to 969\n",
      "Data columns (total 6 columns):\n",
      " #   Column  Non-Null Count  Dtype  \n",
      "---  ------  --------------  -----  \n",
      " 0   name    970 non-null    object \n",
      " 1   studio  961 non-null    object \n",
      " 2   score   907 non-null    float64\n",
      " 3   story   641 non-null    object \n",
      " 4   genre   691 non-null    object \n",
      " 5   year    970 non-null    int64  \n",
      "dtypes: float64(1), int64(1), object(4)\n",
      "memory usage: 45.6+ KB\n"
     ]
    }
   ],
   "source": [
    "data.info()"
   ]
  },
  {
   "cell_type": "code",
   "execution_count": 10,
   "id": "62564bda-465b-4270-99e0-e1b5e9b42926",
   "metadata": {},
   "outputs": [
    {
     "data": {
      "text/plain": [
       "name        0\n",
       "studio      9\n",
       "score      63\n",
       "story     329\n",
       "genre     279\n",
       "year        0\n",
       "dtype: int64"
      ]
     },
     "execution_count": 10,
     "metadata": {},
     "output_type": "execute_result"
    }
   ],
   "source": [
    "data.isnull().sum()"
   ]
  },
  {
   "cell_type": "code",
   "execution_count": 21,
   "id": "64f77b46-8856-4960-bf3a-45024149f46f",
   "metadata": {},
   "outputs": [],
   "source": [
    "df = data.drop(columns=['name', 'studio', 'story', 'genre', 'year'])"
   ]
  },
  {
   "cell_type": "code",
   "execution_count": 22,
   "id": "9c1cb04b-b1d0-47e4-919b-7e63b5261d5a",
   "metadata": {},
   "outputs": [
    {
     "name": "stdout",
     "output_type": "stream",
     "text": [
      "     score\n",
      "0     54.0\n",
      "1     57.0\n",
      "2     89.0\n",
      "3     74.0\n",
      "4     82.0\n",
      "..     ...\n",
      "965    NaN\n",
      "966   66.0\n",
      "967    NaN\n",
      "968   53.0\n",
      "969   37.0\n",
      "\n",
      "[970 rows x 1 columns]\n"
     ]
    }
   ],
   "source": [
    "print(df)"
   ]
  },
  {
   "cell_type": "code",
   "execution_count": 13,
   "id": "95bc6279-6290-487e-a9f4-fd200996ba62",
   "metadata": {},
   "outputs": [],
   "source": [
    "from sklearn.preprocessing import MinMaxScaler"
   ]
  },
  {
   "cell_type": "code",
   "execution_count": 14,
   "id": "a137a363-211f-46fd-87e1-311cf2194820",
   "metadata": {},
   "outputs": [],
   "source": [
    "datatypes = ['int16', 'int32', 'int64', 'float16', 'float32', 'float64']"
   ]
  },
  {
   "cell_type": "code",
   "execution_count": 15,
   "id": "381448f5-2b25-485b-bcb4-435d354926f9",
   "metadata": {},
   "outputs": [
    {
     "name": "stdout",
     "output_type": "stream",
     "text": [
      "     score  year\n",
      "0     54.0  2007\n",
      "1     57.0  2007\n",
      "2     89.0  2007\n",
      "3     74.0  2007\n",
      "4     82.0  2007\n",
      "..     ...   ...\n",
      "965    NaN  2013\n",
      "966   66.0  2013\n",
      "967    NaN  2013\n",
      "968   53.0  2013\n",
      "969   37.0  2013\n",
      "\n",
      "[970 rows x 2 columns]\n"
     ]
    }
   ],
   "source": [
    "normarization = data.select_dtypes(include=datatypes)\n",
    "print(normarization)"
   ]
  },
  {
   "cell_type": "code",
   "execution_count": 23,
   "id": "dff75bd2-22be-47cf-833a-006650a27b9f",
   "metadata": {},
   "outputs": [
    {
     "name": "stdout",
     "output_type": "stream",
     "text": [
      "MinMaxScaler(feature_range='score')\n",
      "MinMaxScaler(feature_range='year')\n"
     ]
    }
   ],
   "source": [
    "for col in normarization.columns:\n",
    "    print(MinMaxScaler(col))"
   ]
  },
  {
   "cell_type": "code",
   "execution_count": 24,
   "id": "d898feee-9c79-47ed-801b-49cd5d746e6e",
   "metadata": {},
   "outputs": [],
   "source": [
    "from sklearn.cluster import KMeans"
   ]
  },
  {
   "cell_type": "code",
   "execution_count": 25,
   "id": "398e69c0-91f3-44bd-bb72-edc6064931a1",
   "metadata": {},
   "outputs": [
    {
     "name": "stdout",
     "output_type": "stream",
     "text": [
      "KMeans(n_clusters=10)\n"
     ]
    }
   ],
   "source": [
    "kmeans = KMeans(n_clusters=10)\n",
    "print(kmeans)"
   ]
  },
  {
   "cell_type": "code",
   "execution_count": 27,
   "id": "bc3a4506-f621-4a12-bdc4-74c7674ede50",
   "metadata": {},
   "outputs": [],
   "source": [
    "df_cleaned = df.dropna(subset=['score'])"
   ]
  },
  {
   "cell_type": "code",
   "execution_count": 28,
   "id": "465e639d-7f83-4738-b940-b9189b03e731",
   "metadata": {},
   "outputs": [
    {
     "name": "stdout",
     "output_type": "stream",
     "text": [
      "   score\n",
      "0   54.0\n",
      "1   57.0\n",
      "2   89.0\n",
      "3   74.0\n",
      "4   82.0\n"
     ]
    }
   ],
   "source": [
    "print(df_cleaned.head())"
   ]
  },
  {
   "cell_type": "code",
   "execution_count": 30,
   "id": "ea3f4a54-adef-4d04-8f46-ce205c5cfc62",
   "metadata": {},
   "outputs": [],
   "source": [
    "df_cleaned.to_csv('movies.csv', index=False)"
   ]
  },
  {
   "cell_type": "code",
   "execution_count": 31,
   "id": "4e9e2dbc-cdd6-4bc6-8d15-41fafa594e02",
   "metadata": {},
   "outputs": [
    {
     "ename": "ValueError",
     "evalue": "Input X contains NaN.\nKMeans does not accept missing values encoded as NaN natively. For supervised learning, you might want to consider sklearn.ensemble.HistGradientBoostingClassifier and Regressor which accept missing values encoded as NaNs natively. Alternatively, it is possible to preprocess the data, for instance by using an imputer transformer in a pipeline or drop samples with missing values. See https://scikit-learn.org/stable/modules/impute.html You can find a list of all estimators that handle NaN values at the following page: https://scikit-learn.org/stable/modules/impute.html#estimators-that-handle-nan-values",
     "output_type": "error",
     "traceback": [
      "\u001b[1;31m---------------------------------------------------------------------------\u001b[0m",
      "\u001b[1;31mValueError\u001b[0m                                Traceback (most recent call last)",
      "Cell \u001b[1;32mIn[31], line 1\u001b[0m\n\u001b[1;32m----> 1\u001b[0m features \u001b[38;5;241m=\u001b[39m \u001b[43mkmeans\u001b[49m\u001b[38;5;241;43m.\u001b[39;49m\u001b[43mfit_predict\u001b[49m\u001b[43m(\u001b[49m\u001b[43mnormarization\u001b[49m\u001b[43m)\u001b[49m\n\u001b[0;32m      2\u001b[0m \u001b[38;5;28mprint\u001b[39m(features)\n",
      "File \u001b[1;32m~\\AppData\\Local\\Programs\\Python\\Python312\\Lib\\site-packages\\sklearn\\cluster\\_kmeans.py:1067\u001b[0m, in \u001b[0;36m_BaseKMeans.fit_predict\u001b[1;34m(self, X, y, sample_weight)\u001b[0m\n\u001b[0;32m   1044\u001b[0m \u001b[38;5;28;01mdef\u001b[39;00m \u001b[38;5;21mfit_predict\u001b[39m(\u001b[38;5;28mself\u001b[39m, X, y\u001b[38;5;241m=\u001b[39m\u001b[38;5;28;01mNone\u001b[39;00m, sample_weight\u001b[38;5;241m=\u001b[39m\u001b[38;5;28;01mNone\u001b[39;00m):\n\u001b[0;32m   1045\u001b[0m \u001b[38;5;250m    \u001b[39m\u001b[38;5;124;03m\"\"\"Compute cluster centers and predict cluster index for each sample.\u001b[39;00m\n\u001b[0;32m   1046\u001b[0m \n\u001b[0;32m   1047\u001b[0m \u001b[38;5;124;03m    Convenience method; equivalent to calling fit(X) followed by\u001b[39;00m\n\u001b[1;32m   (...)\u001b[0m\n\u001b[0;32m   1065\u001b[0m \u001b[38;5;124;03m        Index of the cluster each sample belongs to.\u001b[39;00m\n\u001b[0;32m   1066\u001b[0m \u001b[38;5;124;03m    \"\"\"\u001b[39;00m\n\u001b[1;32m-> 1067\u001b[0m     \u001b[38;5;28;01mreturn\u001b[39;00m \u001b[38;5;28;43mself\u001b[39;49m\u001b[38;5;241;43m.\u001b[39;49m\u001b[43mfit\u001b[49m\u001b[43m(\u001b[49m\u001b[43mX\u001b[49m\u001b[43m,\u001b[49m\u001b[43m \u001b[49m\u001b[43msample_weight\u001b[49m\u001b[38;5;241;43m=\u001b[39;49m\u001b[43msample_weight\u001b[49m\u001b[43m)\u001b[49m\u001b[38;5;241m.\u001b[39mlabels_\n",
      "File \u001b[1;32m~\\AppData\\Local\\Programs\\Python\\Python312\\Lib\\site-packages\\sklearn\\base.py:1473\u001b[0m, in \u001b[0;36m_fit_context.<locals>.decorator.<locals>.wrapper\u001b[1;34m(estimator, *args, **kwargs)\u001b[0m\n\u001b[0;32m   1466\u001b[0m     estimator\u001b[38;5;241m.\u001b[39m_validate_params()\n\u001b[0;32m   1468\u001b[0m \u001b[38;5;28;01mwith\u001b[39;00m config_context(\n\u001b[0;32m   1469\u001b[0m     skip_parameter_validation\u001b[38;5;241m=\u001b[39m(\n\u001b[0;32m   1470\u001b[0m         prefer_skip_nested_validation \u001b[38;5;129;01mor\u001b[39;00m global_skip_validation\n\u001b[0;32m   1471\u001b[0m     )\n\u001b[0;32m   1472\u001b[0m ):\n\u001b[1;32m-> 1473\u001b[0m     \u001b[38;5;28;01mreturn\u001b[39;00m \u001b[43mfit_method\u001b[49m\u001b[43m(\u001b[49m\u001b[43mestimator\u001b[49m\u001b[43m,\u001b[49m\u001b[43m \u001b[49m\u001b[38;5;241;43m*\u001b[39;49m\u001b[43margs\u001b[49m\u001b[43m,\u001b[49m\u001b[43m \u001b[49m\u001b[38;5;241;43m*\u001b[39;49m\u001b[38;5;241;43m*\u001b[39;49m\u001b[43mkwargs\u001b[49m\u001b[43m)\u001b[49m\n",
      "File \u001b[1;32m~\\AppData\\Local\\Programs\\Python\\Python312\\Lib\\site-packages\\sklearn\\cluster\\_kmeans.py:1461\u001b[0m, in \u001b[0;36mKMeans.fit\u001b[1;34m(self, X, y, sample_weight)\u001b[0m\n\u001b[0;32m   1433\u001b[0m \u001b[38;5;129m@_fit_context\u001b[39m(prefer_skip_nested_validation\u001b[38;5;241m=\u001b[39m\u001b[38;5;28;01mTrue\u001b[39;00m)\n\u001b[0;32m   1434\u001b[0m \u001b[38;5;28;01mdef\u001b[39;00m \u001b[38;5;21mfit\u001b[39m(\u001b[38;5;28mself\u001b[39m, X, y\u001b[38;5;241m=\u001b[39m\u001b[38;5;28;01mNone\u001b[39;00m, sample_weight\u001b[38;5;241m=\u001b[39m\u001b[38;5;28;01mNone\u001b[39;00m):\n\u001b[0;32m   1435\u001b[0m \u001b[38;5;250m    \u001b[39m\u001b[38;5;124;03m\"\"\"Compute k-means clustering.\u001b[39;00m\n\u001b[0;32m   1436\u001b[0m \n\u001b[0;32m   1437\u001b[0m \u001b[38;5;124;03m    Parameters\u001b[39;00m\n\u001b[1;32m   (...)\u001b[0m\n\u001b[0;32m   1459\u001b[0m \u001b[38;5;124;03m        Fitted estimator.\u001b[39;00m\n\u001b[0;32m   1460\u001b[0m \u001b[38;5;124;03m    \"\"\"\u001b[39;00m\n\u001b[1;32m-> 1461\u001b[0m     X \u001b[38;5;241m=\u001b[39m \u001b[38;5;28;43mself\u001b[39;49m\u001b[38;5;241;43m.\u001b[39;49m\u001b[43m_validate_data\u001b[49m\u001b[43m(\u001b[49m\n\u001b[0;32m   1462\u001b[0m \u001b[43m        \u001b[49m\u001b[43mX\u001b[49m\u001b[43m,\u001b[49m\n\u001b[0;32m   1463\u001b[0m \u001b[43m        \u001b[49m\u001b[43maccept_sparse\u001b[49m\u001b[38;5;241;43m=\u001b[39;49m\u001b[38;5;124;43m\"\u001b[39;49m\u001b[38;5;124;43mcsr\u001b[39;49m\u001b[38;5;124;43m\"\u001b[39;49m\u001b[43m,\u001b[49m\n\u001b[0;32m   1464\u001b[0m \u001b[43m        \u001b[49m\u001b[43mdtype\u001b[49m\u001b[38;5;241;43m=\u001b[39;49m\u001b[43m[\u001b[49m\u001b[43mnp\u001b[49m\u001b[38;5;241;43m.\u001b[39;49m\u001b[43mfloat64\u001b[49m\u001b[43m,\u001b[49m\u001b[43m \u001b[49m\u001b[43mnp\u001b[49m\u001b[38;5;241;43m.\u001b[39;49m\u001b[43mfloat32\u001b[49m\u001b[43m]\u001b[49m\u001b[43m,\u001b[49m\n\u001b[0;32m   1465\u001b[0m \u001b[43m        \u001b[49m\u001b[43morder\u001b[49m\u001b[38;5;241;43m=\u001b[39;49m\u001b[38;5;124;43m\"\u001b[39;49m\u001b[38;5;124;43mC\u001b[39;49m\u001b[38;5;124;43m\"\u001b[39;49m\u001b[43m,\u001b[49m\n\u001b[0;32m   1466\u001b[0m \u001b[43m        \u001b[49m\u001b[43mcopy\u001b[49m\u001b[38;5;241;43m=\u001b[39;49m\u001b[38;5;28;43mself\u001b[39;49m\u001b[38;5;241;43m.\u001b[39;49m\u001b[43mcopy_x\u001b[49m\u001b[43m,\u001b[49m\n\u001b[0;32m   1467\u001b[0m \u001b[43m        \u001b[49m\u001b[43maccept_large_sparse\u001b[49m\u001b[38;5;241;43m=\u001b[39;49m\u001b[38;5;28;43;01mFalse\u001b[39;49;00m\u001b[43m,\u001b[49m\n\u001b[0;32m   1468\u001b[0m \u001b[43m    \u001b[49m\u001b[43m)\u001b[49m\n\u001b[0;32m   1470\u001b[0m     \u001b[38;5;28mself\u001b[39m\u001b[38;5;241m.\u001b[39m_check_params_vs_input(X)\n\u001b[0;32m   1472\u001b[0m     random_state \u001b[38;5;241m=\u001b[39m check_random_state(\u001b[38;5;28mself\u001b[39m\u001b[38;5;241m.\u001b[39mrandom_state)\n",
      "File \u001b[1;32m~\\AppData\\Local\\Programs\\Python\\Python312\\Lib\\site-packages\\sklearn\\base.py:633\u001b[0m, in \u001b[0;36mBaseEstimator._validate_data\u001b[1;34m(self, X, y, reset, validate_separately, cast_to_ndarray, **check_params)\u001b[0m\n\u001b[0;32m    631\u001b[0m         out \u001b[38;5;241m=\u001b[39m X, y\n\u001b[0;32m    632\u001b[0m \u001b[38;5;28;01melif\u001b[39;00m \u001b[38;5;129;01mnot\u001b[39;00m no_val_X \u001b[38;5;129;01mand\u001b[39;00m no_val_y:\n\u001b[1;32m--> 633\u001b[0m     out \u001b[38;5;241m=\u001b[39m \u001b[43mcheck_array\u001b[49m\u001b[43m(\u001b[49m\u001b[43mX\u001b[49m\u001b[43m,\u001b[49m\u001b[43m \u001b[49m\u001b[43minput_name\u001b[49m\u001b[38;5;241;43m=\u001b[39;49m\u001b[38;5;124;43m\"\u001b[39;49m\u001b[38;5;124;43mX\u001b[39;49m\u001b[38;5;124;43m\"\u001b[39;49m\u001b[43m,\u001b[49m\u001b[43m \u001b[49m\u001b[38;5;241;43m*\u001b[39;49m\u001b[38;5;241;43m*\u001b[39;49m\u001b[43mcheck_params\u001b[49m\u001b[43m)\u001b[49m\n\u001b[0;32m    634\u001b[0m \u001b[38;5;28;01melif\u001b[39;00m no_val_X \u001b[38;5;129;01mand\u001b[39;00m \u001b[38;5;129;01mnot\u001b[39;00m no_val_y:\n\u001b[0;32m    635\u001b[0m     out \u001b[38;5;241m=\u001b[39m _check_y(y, \u001b[38;5;241m*\u001b[39m\u001b[38;5;241m*\u001b[39mcheck_params)\n",
      "File \u001b[1;32m~\\AppData\\Local\\Programs\\Python\\Python312\\Lib\\site-packages\\sklearn\\utils\\validation.py:1059\u001b[0m, in \u001b[0;36mcheck_array\u001b[1;34m(array, accept_sparse, accept_large_sparse, dtype, order, copy, force_all_finite, ensure_2d, allow_nd, ensure_min_samples, ensure_min_features, estimator, input_name)\u001b[0m\n\u001b[0;32m   1053\u001b[0m     \u001b[38;5;28;01mraise\u001b[39;00m \u001b[38;5;167;01mValueError\u001b[39;00m(\n\u001b[0;32m   1054\u001b[0m         \u001b[38;5;124m\"\u001b[39m\u001b[38;5;124mFound array with dim \u001b[39m\u001b[38;5;132;01m%d\u001b[39;00m\u001b[38;5;124m. \u001b[39m\u001b[38;5;132;01m%s\u001b[39;00m\u001b[38;5;124m expected <= 2.\u001b[39m\u001b[38;5;124m\"\u001b[39m\n\u001b[0;32m   1055\u001b[0m         \u001b[38;5;241m%\u001b[39m (array\u001b[38;5;241m.\u001b[39mndim, estimator_name)\n\u001b[0;32m   1056\u001b[0m     )\n\u001b[0;32m   1058\u001b[0m \u001b[38;5;28;01mif\u001b[39;00m force_all_finite:\n\u001b[1;32m-> 1059\u001b[0m     \u001b[43m_assert_all_finite\u001b[49m\u001b[43m(\u001b[49m\n\u001b[0;32m   1060\u001b[0m \u001b[43m        \u001b[49m\u001b[43marray\u001b[49m\u001b[43m,\u001b[49m\n\u001b[0;32m   1061\u001b[0m \u001b[43m        \u001b[49m\u001b[43minput_name\u001b[49m\u001b[38;5;241;43m=\u001b[39;49m\u001b[43minput_name\u001b[49m\u001b[43m,\u001b[49m\n\u001b[0;32m   1062\u001b[0m \u001b[43m        \u001b[49m\u001b[43mestimator_name\u001b[49m\u001b[38;5;241;43m=\u001b[39;49m\u001b[43mestimator_name\u001b[49m\u001b[43m,\u001b[49m\n\u001b[0;32m   1063\u001b[0m \u001b[43m        \u001b[49m\u001b[43mallow_nan\u001b[49m\u001b[38;5;241;43m=\u001b[39;49m\u001b[43mforce_all_finite\u001b[49m\u001b[43m \u001b[49m\u001b[38;5;241;43m==\u001b[39;49m\u001b[43m \u001b[49m\u001b[38;5;124;43m\"\u001b[39;49m\u001b[38;5;124;43mallow-nan\u001b[39;49m\u001b[38;5;124;43m\"\u001b[39;49m\u001b[43m,\u001b[49m\n\u001b[0;32m   1064\u001b[0m \u001b[43m    \u001b[49m\u001b[43m)\u001b[49m\n\u001b[0;32m   1066\u001b[0m \u001b[38;5;28;01mif\u001b[39;00m copy:\n\u001b[0;32m   1067\u001b[0m     \u001b[38;5;28;01mif\u001b[39;00m _is_numpy_namespace(xp):\n\u001b[0;32m   1068\u001b[0m         \u001b[38;5;66;03m# only make a copy if `array` and `array_orig` may share memory`\u001b[39;00m\n",
      "File \u001b[1;32m~\\AppData\\Local\\Programs\\Python\\Python312\\Lib\\site-packages\\sklearn\\utils\\validation.py:126\u001b[0m, in \u001b[0;36m_assert_all_finite\u001b[1;34m(X, allow_nan, msg_dtype, estimator_name, input_name)\u001b[0m\n\u001b[0;32m    123\u001b[0m \u001b[38;5;28;01mif\u001b[39;00m first_pass_isfinite:\n\u001b[0;32m    124\u001b[0m     \u001b[38;5;28;01mreturn\u001b[39;00m\n\u001b[1;32m--> 126\u001b[0m \u001b[43m_assert_all_finite_element_wise\u001b[49m\u001b[43m(\u001b[49m\n\u001b[0;32m    127\u001b[0m \u001b[43m    \u001b[49m\u001b[43mX\u001b[49m\u001b[43m,\u001b[49m\n\u001b[0;32m    128\u001b[0m \u001b[43m    \u001b[49m\u001b[43mxp\u001b[49m\u001b[38;5;241;43m=\u001b[39;49m\u001b[43mxp\u001b[49m\u001b[43m,\u001b[49m\n\u001b[0;32m    129\u001b[0m \u001b[43m    \u001b[49m\u001b[43mallow_nan\u001b[49m\u001b[38;5;241;43m=\u001b[39;49m\u001b[43mallow_nan\u001b[49m\u001b[43m,\u001b[49m\n\u001b[0;32m    130\u001b[0m \u001b[43m    \u001b[49m\u001b[43mmsg_dtype\u001b[49m\u001b[38;5;241;43m=\u001b[39;49m\u001b[43mmsg_dtype\u001b[49m\u001b[43m,\u001b[49m\n\u001b[0;32m    131\u001b[0m \u001b[43m    \u001b[49m\u001b[43mestimator_name\u001b[49m\u001b[38;5;241;43m=\u001b[39;49m\u001b[43mestimator_name\u001b[49m\u001b[43m,\u001b[49m\n\u001b[0;32m    132\u001b[0m \u001b[43m    \u001b[49m\u001b[43minput_name\u001b[49m\u001b[38;5;241;43m=\u001b[39;49m\u001b[43minput_name\u001b[49m\u001b[43m,\u001b[49m\n\u001b[0;32m    133\u001b[0m \u001b[43m\u001b[49m\u001b[43m)\u001b[49m\n",
      "File \u001b[1;32m~\\AppData\\Local\\Programs\\Python\\Python312\\Lib\\site-packages\\sklearn\\utils\\validation.py:175\u001b[0m, in \u001b[0;36m_assert_all_finite_element_wise\u001b[1;34m(X, xp, allow_nan, msg_dtype, estimator_name, input_name)\u001b[0m\n\u001b[0;32m    158\u001b[0m \u001b[38;5;28;01mif\u001b[39;00m estimator_name \u001b[38;5;129;01mand\u001b[39;00m input_name \u001b[38;5;241m==\u001b[39m \u001b[38;5;124m\"\u001b[39m\u001b[38;5;124mX\u001b[39m\u001b[38;5;124m\"\u001b[39m \u001b[38;5;129;01mand\u001b[39;00m has_nan_error:\n\u001b[0;32m    159\u001b[0m     \u001b[38;5;66;03m# Improve the error message on how to handle missing values in\u001b[39;00m\n\u001b[0;32m    160\u001b[0m     \u001b[38;5;66;03m# scikit-learn.\u001b[39;00m\n\u001b[0;32m    161\u001b[0m     msg_err \u001b[38;5;241m+\u001b[39m\u001b[38;5;241m=\u001b[39m (\n\u001b[0;32m    162\u001b[0m         \u001b[38;5;124mf\u001b[39m\u001b[38;5;124m\"\u001b[39m\u001b[38;5;130;01m\\n\u001b[39;00m\u001b[38;5;132;01m{\u001b[39;00mestimator_name\u001b[38;5;132;01m}\u001b[39;00m\u001b[38;5;124m does not accept missing values\u001b[39m\u001b[38;5;124m\"\u001b[39m\n\u001b[0;32m    163\u001b[0m         \u001b[38;5;124m\"\u001b[39m\u001b[38;5;124m encoded as NaN natively. For supervised learning, you might want\u001b[39m\u001b[38;5;124m\"\u001b[39m\n\u001b[1;32m   (...)\u001b[0m\n\u001b[0;32m    173\u001b[0m         \u001b[38;5;124m\"\u001b[39m\u001b[38;5;124m#estimators-that-handle-nan-values\u001b[39m\u001b[38;5;124m\"\u001b[39m\n\u001b[0;32m    174\u001b[0m     )\n\u001b[1;32m--> 175\u001b[0m \u001b[38;5;28;01mraise\u001b[39;00m \u001b[38;5;167;01mValueError\u001b[39;00m(msg_err)\n",
      "\u001b[1;31mValueError\u001b[0m: Input X contains NaN.\nKMeans does not accept missing values encoded as NaN natively. For supervised learning, you might want to consider sklearn.ensemble.HistGradientBoostingClassifier and Regressor which accept missing values encoded as NaNs natively. Alternatively, it is possible to preprocess the data, for instance by using an imputer transformer in a pipeline or drop samples with missing values. See https://scikit-learn.org/stable/modules/impute.html You can find a list of all estimators that handle NaN values at the following page: https://scikit-learn.org/stable/modules/impute.html#estimators-that-handle-nan-values"
     ]
    }
   ],
   "source": [
    "features = kmeans.fit_predict(normarization)\n",
    "print(features)"
   ]
  },
  {
   "cell_type": "code",
   "execution_count": 1,
   "id": "d3dc841b-63c8-4755-96de-2feded4354ff",
   "metadata": {},
   "outputs": [
    {
     "name": "stdout",
     "output_type": "stream",
     "text": [
      "Collecting openrec\n",
      "  Downloading openrec-0.3.0.tar.gz (54 kB)\n",
      "     ---------------------------------------- 0.0/54.1 kB ? eta -:--:--\n",
      "     --------------- ------------------------ 20.5/54.1 kB ? eta -:--:--\n",
      "     --------------------- ---------------- 30.7/54.1 kB 262.6 kB/s eta 0:00:01\n",
      "     ---------------------------- --------- 41.0/54.1 kB 245.8 kB/s eta 0:00:01\n",
      "     -------------------------------------- 54.1/54.1 kB 255.0 kB/s eta 0:00:00\n",
      "  Installing build dependencies: started\n",
      "  Installing build dependencies: finished with status 'done'\n",
      "  Getting requirements to build wheel: started\n",
      "  Getting requirements to build wheel: finished with status 'done'\n",
      "  Preparing metadata (pyproject.toml): started\n",
      "  Preparing metadata (pyproject.toml): finished with status 'done'\n",
      "Requirement already satisfied: tqdm>=4.15.0 in c:\\users\\hireni pujara\\appdata\\local\\programs\\python\\python312\\lib\\site-packages (from openrec) (4.66.4)\n",
      "Requirement already satisfied: numpy>=1.13.0 in c:\\users\\hireni pujara\\appdata\\local\\programs\\python\\python312\\lib\\site-packages (from openrec) (2.0.0)\n",
      "Collecting termcolor>=1.1.0 (from openrec)\n",
      "  Downloading termcolor-2.4.0-py3-none-any.whl.metadata (6.1 kB)\n",
      "Requirement already satisfied: colorama in c:\\users\\hireni pujara\\appdata\\local\\programs\\python\\python312\\lib\\site-packages (from tqdm>=4.15.0->openrec) (0.4.6)\n",
      "Downloading termcolor-2.4.0-py3-none-any.whl (7.7 kB)\n",
      "Building wheels for collected packages: openrec\n",
      "  Building wheel for openrec (pyproject.toml): started\n",
      "  Building wheel for openrec (pyproject.toml): finished with status 'done'\n",
      "  Created wheel for openrec: filename=openrec-0.3.0-py3-none-any.whl size=108132 sha256=e1072c68d41aa03ee4baaca2e5b53467b782a27a017a3be928ceda4b4d2e1764\n",
      "  Stored in directory: c:\\users\\hireni pujara\\appdata\\local\\pip\\cache\\wheels\\6b\\7e\\09\\ce60f7c2480379e2c61a37e741108ce0ef8e6d2b72d7f8fe0a\n",
      "Successfully built openrec\n",
      "Installing collected packages: termcolor, openrec\n",
      "Successfully installed openrec-0.3.0 termcolor-2.4.0\n"
     ]
    }
   ],
   "source": [
    "!pip install openrec"
   ]
  },
  {
   "cell_type": "code",
   "execution_count": 2,
   "id": "4fa9d256-d87a-4603-956d-12954532bb63",
   "metadata": {},
   "outputs": [
    {
     "name": "stdout",
     "output_type": "stream",
     "text": [
      "Collecting matplotlib\n",
      "  Downloading matplotlib-3.9.0-cp312-cp312-win_amd64.whl.metadata (11 kB)\n",
      "Collecting contourpy>=1.0.1 (from matplotlib)\n",
      "  Downloading contourpy-1.2.1-cp312-cp312-win_amd64.whl.metadata (5.8 kB)\n",
      "Collecting cycler>=0.10 (from matplotlib)\n",
      "  Downloading cycler-0.12.1-py3-none-any.whl.metadata (3.8 kB)\n",
      "Collecting fonttools>=4.22.0 (from matplotlib)\n",
      "  Downloading fonttools-4.53.0-cp312-cp312-win_amd64.whl.metadata (165 kB)\n",
      "     ---------------------------------------- 0.0/165.5 kB ? eta -:--:--\n",
      "     ---------------------------------------- 0.0/165.5 kB ? eta -:--:--\n",
      "     -- ------------------------------------- 10.2/165.5 kB ? eta -:--:--\n",
      "     ------------- ----------------------- 61.4/165.5 kB 656.4 kB/s eta 0:00:01\n",
      "     -------------------------------------- 165.5/165.5 kB 1.1 MB/s eta 0:00:00\n",
      "Collecting kiwisolver>=1.3.1 (from matplotlib)\n",
      "  Downloading kiwisolver-1.4.5-cp312-cp312-win_amd64.whl.metadata (6.5 kB)\n",
      "Requirement already satisfied: numpy>=1.23 in c:\\users\\hireni pujara\\appdata\\local\\programs\\python\\python312\\lib\\site-packages (from matplotlib) (2.0.0)\n",
      "Requirement already satisfied: packaging>=20.0 in c:\\users\\hireni pujara\\appdata\\local\\programs\\python\\python312\\lib\\site-packages (from matplotlib) (24.1)\n",
      "Collecting pillow>=8 (from matplotlib)\n",
      "  Downloading pillow-10.3.0-cp312-cp312-win_amd64.whl.metadata (9.4 kB)\n",
      "Collecting pyparsing>=2.3.1 (from matplotlib)\n",
      "  Downloading pyparsing-3.1.2-py3-none-any.whl.metadata (5.1 kB)\n",
      "Requirement already satisfied: python-dateutil>=2.7 in c:\\users\\hireni pujara\\appdata\\local\\programs\\python\\python312\\lib\\site-packages (from matplotlib) (2.9.0.post0)\n",
      "Requirement already satisfied: six>=1.5 in c:\\users\\hireni pujara\\appdata\\local\\programs\\python\\python312\\lib\\site-packages (from python-dateutil>=2.7->matplotlib) (1.16.0)\n",
      "Downloading matplotlib-3.9.0-cp312-cp312-win_amd64.whl (8.0 MB)\n",
      "   ---------------------------------------- 0.0/8.0 MB ? eta -:--:--\n",
      "   - -------------------------------------- 0.2/8.0 MB 6.7 MB/s eta 0:00:02\n",
      "   -- ------------------------------------- 0.5/8.0 MB 5.6 MB/s eta 0:00:02\n",
      "   --- ------------------------------------ 0.7/8.0 MB 5.2 MB/s eta 0:00:02\n",
      "   ---- ----------------------------------- 1.0/8.0 MB 5.2 MB/s eta 0:00:02\n",
      "   ----- ---------------------------------- 1.2/8.0 MB 4.9 MB/s eta 0:00:02\n",
      "   ------- -------------------------------- 1.4/8.0 MB 4.9 MB/s eta 0:00:02\n",
      "   -------- ------------------------------- 1.6/8.0 MB 4.8 MB/s eta 0:00:02\n",
      "   --------- ------------------------------ 1.8/8.0 MB 4.8 MB/s eta 0:00:02\n",
      "   ---------- ----------------------------- 2.0/8.0 MB 4.7 MB/s eta 0:00:02\n",
      "   ----------- ---------------------------- 2.2/8.0 MB 4.7 MB/s eta 0:00:02\n",
      "   ------------ --------------------------- 2.4/8.0 MB 4.6 MB/s eta 0:00:02\n",
      "   ------------- -------------------------- 2.6/8.0 MB 4.6 MB/s eta 0:00:02\n",
      "   ------------- -------------------------- 2.8/8.0 MB 4.5 MB/s eta 0:00:02\n",
      "   -------------- ------------------------- 3.0/8.0 MB 4.5 MB/s eta 0:00:02\n",
      "   --------------- ------------------------ 3.2/8.0 MB 4.5 MB/s eta 0:00:02\n",
      "   ---------------- ----------------------- 3.3/8.0 MB 4.4 MB/s eta 0:00:02\n",
      "   ----------------- ---------------------- 3.5/8.0 MB 4.3 MB/s eta 0:00:02\n",
      "   ------------------ --------------------- 3.7/8.0 MB 4.3 MB/s eta 0:00:02\n",
      "   ------------------- -------------------- 3.9/8.0 MB 4.3 MB/s eta 0:00:01\n",
      "   -------------------- ------------------- 4.0/8.0 MB 4.2 MB/s eta 0:00:01\n",
      "   --------------------- ------------------ 4.3/8.0 MB 4.2 MB/s eta 0:00:01\n",
      "   ---------------------- ----------------- 4.4/8.0 MB 4.2 MB/s eta 0:00:01\n",
      "   ----------------------- ---------------- 4.6/8.0 MB 4.2 MB/s eta 0:00:01\n",
      "   ------------------------ --------------- 4.8/8.0 MB 4.2 MB/s eta 0:00:01\n",
      "   ------------------------- -------------- 5.0/8.0 MB 4.2 MB/s eta 0:00:01\n",
      "   ------------------------- -------------- 5.2/8.0 MB 4.2 MB/s eta 0:00:01\n",
      "   -------------------------- ------------- 5.4/8.0 MB 4.2 MB/s eta 0:00:01\n",
      "   --------------------------- ------------ 5.6/8.0 MB 4.2 MB/s eta 0:00:01\n",
      "   ---------------------------- ----------- 5.7/8.0 MB 4.2 MB/s eta 0:00:01\n",
      "   ----------------------------- ---------- 5.9/8.0 MB 4.2 MB/s eta 0:00:01\n",
      "   ------------------------------ --------- 6.0/8.0 MB 4.1 MB/s eta 0:00:01\n",
      "   ------------------------------ --------- 6.0/8.0 MB 4.1 MB/s eta 0:00:01\n",
      "   ------------------------------ --------- 6.0/8.0 MB 4.1 MB/s eta 0:00:01\n",
      "   ------------------------------- -------- 6.3/8.0 MB 3.9 MB/s eta 0:00:01\n",
      "   ---------------------------------- ----- 6.8/8.0 MB 4.1 MB/s eta 0:00:01\n",
      "   ----------------------------------- ---- 7.0/8.0 MB 4.1 MB/s eta 0:00:01\n",
      "   ------------------------------------ --- 7.2/8.0 MB 4.1 MB/s eta 0:00:01\n",
      "   ------------------------------------- -- 7.4/8.0 MB 4.1 MB/s eta 0:00:01\n",
      "   ------------------------------------- -- 7.5/8.0 MB 4.1 MB/s eta 0:00:01\n",
      "   -------------------------------------- - 7.8/8.0 MB 4.1 MB/s eta 0:00:01\n",
      "   ---------------------------------------  7.9/8.0 MB 4.1 MB/s eta 0:00:01\n",
      "   ---------------------------------------- 8.0/8.0 MB 4.0 MB/s eta 0:00:00\n",
      "Downloading contourpy-1.2.1-cp312-cp312-win_amd64.whl (189 kB)\n",
      "   ---------------------------------------- 0.0/189.9 kB ? eta -:--:--\n",
      "   ------------------------------------- - 184.3/189.9 kB 10.9 MB/s eta 0:00:01\n",
      "   ---------------------------------------- 189.9/189.9 kB 5.8 MB/s eta 0:00:00\n",
      "Downloading cycler-0.12.1-py3-none-any.whl (8.3 kB)\n",
      "Downloading fonttools-4.53.0-cp312-cp312-win_amd64.whl (2.2 MB)\n",
      "   ---------------------------------------- 0.0/2.2 MB ? eta -:--:--\n",
      "   ---- ----------------------------------- 0.2/2.2 MB 6.9 MB/s eta 0:00:01\n",
      "   ------- -------------------------------- 0.4/2.2 MB 4.9 MB/s eta 0:00:01\n",
      "   ----------- ---------------------------- 0.7/2.2 MB 4.6 MB/s eta 0:00:01\n",
      "   --------------- ------------------------ 0.8/2.2 MB 4.4 MB/s eta 0:00:01\n",
      "   -------------------- ------------------- 1.1/2.2 MB 4.7 MB/s eta 0:00:01\n",
      "   ----------------------- ---------------- 1.3/2.2 MB 4.5 MB/s eta 0:00:01\n",
      "   --------------------------- ------------ 1.5/2.2 MB 4.6 MB/s eta 0:00:01\n",
      "   ------------------------------ --------- 1.6/2.2 MB 4.4 MB/s eta 0:00:01\n",
      "   ---------------------------------- ----- 1.9/2.2 MB 4.5 MB/s eta 0:00:01\n",
      "   -------------------------------------- - 2.1/2.2 MB 4.5 MB/s eta 0:00:01\n",
      "   ---------------------------------------- 2.2/2.2 MB 4.4 MB/s eta 0:00:00\n",
      "Downloading kiwisolver-1.4.5-cp312-cp312-win_amd64.whl (56 kB)\n",
      "   ---------------------------------------- 0.0/56.0 kB ? eta -:--:--\n",
      "   ---------------------------------------- 56.0/56.0 kB 1.5 MB/s eta 0:00:00\n",
      "Downloading pillow-10.3.0-cp312-cp312-win_amd64.whl (2.5 MB)\n",
      "   ---------------------------------------- 0.0/2.5 MB ? eta -:--:--\n",
      "   --- ------------------------------------ 0.2/2.5 MB 7.0 MB/s eta 0:00:01\n",
      "   ------ --------------------------------- 0.4/2.5 MB 4.4 MB/s eta 0:00:01\n",
      "   ---------- ----------------------------- 0.7/2.5 MB 4.7 MB/s eta 0:00:01\n",
      "   -------------- ------------------------- 0.9/2.5 MB 5.1 MB/s eta 0:00:01\n",
      "   ------------------ --------------------- 1.1/2.5 MB 5.2 MB/s eta 0:00:01\n",
      "   --------------------- ------------------ 1.4/2.5 MB 4.8 MB/s eta 0:00:01\n",
      "   ----------------------- ---------------- 1.5/2.5 MB 4.8 MB/s eta 0:00:01\n",
      "   -------------------------- ------------- 1.7/2.5 MB 4.6 MB/s eta 0:00:01\n",
      "   ----------------------------- ---------- 1.9/2.5 MB 4.4 MB/s eta 0:00:01\n",
      "   --------------------------------- ------ 2.1/2.5 MB 4.5 MB/s eta 0:00:01\n",
      "   ------------------------------------- -- 2.4/2.5 MB 4.6 MB/s eta 0:00:01\n",
      "   ---------------------------------------  2.5/2.5 MB 4.7 MB/s eta 0:00:01\n",
      "   ---------------------------------------- 2.5/2.5 MB 4.5 MB/s eta 0:00:00\n",
      "Downloading pyparsing-3.1.2-py3-none-any.whl (103 kB)\n",
      "   ---------------------------------------- 0.0/103.2 kB ? eta -:--:--\n",
      "   ---------------------------------------- 103.2/103.2 kB 5.8 MB/s eta 0:00:00\n",
      "Installing collected packages: pyparsing, pillow, kiwisolver, fonttools, cycler, contourpy, matplotlib\n",
      "Successfully installed contourpy-1.2.1 cycler-0.12.1 fonttools-4.53.0 kiwisolver-1.4.5 matplotlib-3.9.0 pillow-10.3.0 pyparsing-3.1.2\n"
     ]
    }
   ],
   "source": [
    "!pip install matplotlib"
   ]
  },
  {
   "cell_type": "code",
   "execution_count": 3,
   "id": "54091e37-e302-4d84-bb8b-7a86ba166023",
   "metadata": {},
   "outputs": [
    {
     "name": "stdout",
     "output_type": "stream",
     "text": [
      "Requirement already satisfied: matplotlib in c:\\users\\hireni pujara\\appdata\\local\\programs\\python\\python312\\lib\\site-packages (3.9.0)\n",
      "Requirement already satisfied: contourpy>=1.0.1 in c:\\users\\hireni pujara\\appdata\\local\\programs\\python\\python312\\lib\\site-packages (from matplotlib) (1.2.1)\n",
      "Requirement already satisfied: cycler>=0.10 in c:\\users\\hireni pujara\\appdata\\local\\programs\\python\\python312\\lib\\site-packages (from matplotlib) (0.12.1)\n",
      "Requirement already satisfied: fonttools>=4.22.0 in c:\\users\\hireni pujara\\appdata\\local\\programs\\python\\python312\\lib\\site-packages (from matplotlib) (4.53.0)\n",
      "Requirement already satisfied: kiwisolver>=1.3.1 in c:\\users\\hireni pujara\\appdata\\local\\programs\\python\\python312\\lib\\site-packages (from matplotlib) (1.4.5)\n",
      "Requirement already satisfied: numpy>=1.23 in c:\\users\\hireni pujara\\appdata\\local\\programs\\python\\python312\\lib\\site-packages (from matplotlib) (1.26.4)\n",
      "Requirement already satisfied: packaging>=20.0 in c:\\users\\hireni pujara\\appdata\\local\\programs\\python\\python312\\lib\\site-packages (from matplotlib) (24.1)\n",
      "Requirement already satisfied: pillow>=8 in c:\\users\\hireni pujara\\appdata\\local\\programs\\python\\python312\\lib\\site-packages (from matplotlib) (10.3.0)\n",
      "Requirement already satisfied: pyparsing>=2.3.1 in c:\\users\\hireni pujara\\appdata\\local\\programs\\python\\python312\\lib\\site-packages (from matplotlib) (3.1.2)\n",
      "Requirement already satisfied: python-dateutil>=2.7 in c:\\users\\hireni pujara\\appdata\\local\\programs\\python\\python312\\lib\\site-packages (from matplotlib) (2.9.0.post0)\n",
      "Requirement already satisfied: six>=1.5 in c:\\users\\hireni pujara\\appdata\\local\\programs\\python\\python312\\lib\\site-packages (from python-dateutil>=2.7->matplotlib) (1.16.0)\n"
     ]
    }
   ],
   "source": [
    "!pip install matplotlib"
   ]
  },
  {
   "cell_type": "code",
   "execution_count": 4,
   "id": "76752fd4-f7f5-4d15-87ce-1d4d4bad19b3",
   "metadata": {},
   "outputs": [
    {
     "name": "stdout",
     "output_type": "stream",
     "text": [
      "Collecting seaborn\n",
      "  Using cached seaborn-0.13.2-py3-none-any.whl.metadata (5.4 kB)\n",
      "Requirement already satisfied: numpy!=1.24.0,>=1.20 in c:\\users\\hireni pujara\\appdata\\local\\programs\\python\\python312\\lib\\site-packages (from seaborn) (1.26.4)\n",
      "Requirement already satisfied: pandas>=1.2 in c:\\users\\hireni pujara\\appdata\\local\\programs\\python\\python312\\lib\\site-packages (from seaborn) (2.2.2)\n",
      "Requirement already satisfied: matplotlib!=3.6.1,>=3.4 in c:\\users\\hireni pujara\\appdata\\local\\programs\\python\\python312\\lib\\site-packages (from seaborn) (3.9.0)\n",
      "Requirement already satisfied: contourpy>=1.0.1 in c:\\users\\hireni pujara\\appdata\\local\\programs\\python\\python312\\lib\\site-packages (from matplotlib!=3.6.1,>=3.4->seaborn) (1.2.1)\n",
      "Requirement already satisfied: cycler>=0.10 in c:\\users\\hireni pujara\\appdata\\local\\programs\\python\\python312\\lib\\site-packages (from matplotlib!=3.6.1,>=3.4->seaborn) (0.12.1)\n",
      "Requirement already satisfied: fonttools>=4.22.0 in c:\\users\\hireni pujara\\appdata\\local\\programs\\python\\python312\\lib\\site-packages (from matplotlib!=3.6.1,>=3.4->seaborn) (4.53.0)\n",
      "Requirement already satisfied: kiwisolver>=1.3.1 in c:\\users\\hireni pujara\\appdata\\local\\programs\\python\\python312\\lib\\site-packages (from matplotlib!=3.6.1,>=3.4->seaborn) (1.4.5)\n",
      "Requirement already satisfied: packaging>=20.0 in c:\\users\\hireni pujara\\appdata\\local\\programs\\python\\python312\\lib\\site-packages (from matplotlib!=3.6.1,>=3.4->seaborn) (24.1)\n",
      "Requirement already satisfied: pillow>=8 in c:\\users\\hireni pujara\\appdata\\local\\programs\\python\\python312\\lib\\site-packages (from matplotlib!=3.6.1,>=3.4->seaborn) (10.3.0)\n",
      "Requirement already satisfied: pyparsing>=2.3.1 in c:\\users\\hireni pujara\\appdata\\local\\programs\\python\\python312\\lib\\site-packages (from matplotlib!=3.6.1,>=3.4->seaborn) (3.1.2)\n",
      "Requirement already satisfied: python-dateutil>=2.7 in c:\\users\\hireni pujara\\appdata\\local\\programs\\python\\python312\\lib\\site-packages (from matplotlib!=3.6.1,>=3.4->seaborn) (2.9.0.post0)\n",
      "Requirement already satisfied: pytz>=2020.1 in c:\\users\\hireni pujara\\appdata\\local\\programs\\python\\python312\\lib\\site-packages (from pandas>=1.2->seaborn) (2024.1)\n",
      "Requirement already satisfied: tzdata>=2022.7 in c:\\users\\hireni pujara\\appdata\\local\\programs\\python\\python312\\lib\\site-packages (from pandas>=1.2->seaborn) (2024.1)\n",
      "Requirement already satisfied: six>=1.5 in c:\\users\\hireni pujara\\appdata\\local\\programs\\python\\python312\\lib\\site-packages (from python-dateutil>=2.7->matplotlib!=3.6.1,>=3.4->seaborn) (1.16.0)\n",
      "Using cached seaborn-0.13.2-py3-none-any.whl (294 kB)\n",
      "Installing collected packages: seaborn\n",
      "Successfully installed seaborn-0.13.2\n"
     ]
    }
   ],
   "source": [
    "!pip install seaborn \n"
   ]
  },
  {
   "cell_type": "code",
   "execution_count": 5,
   "id": "5bca8f59-f0db-4a4d-8b44-cd7ae6fdbbda",
   "metadata": {},
   "outputs": [
    {
     "name": "stdout",
     "output_type": "stream",
     "text": [
      "Requirement already satisfied: scikit-learn in c:\\users\\hireni pujara\\appdata\\local\\programs\\python\\python312\\lib\\site-packages (1.5.0)\n",
      "Requirement already satisfied: scipy in c:\\users\\hireni pujara\\appdata\\local\\programs\\python\\python312\\lib\\site-packages (1.13.1)\n",
      "Requirement already satisfied: numpy>=1.19.5 in c:\\users\\hireni pujara\\appdata\\local\\programs\\python\\python312\\lib\\site-packages (from scikit-learn) (1.26.4)\n",
      "Requirement already satisfied: joblib>=1.2.0 in c:\\users\\hireni pujara\\appdata\\local\\programs\\python\\python312\\lib\\site-packages (from scikit-learn) (1.4.2)\n",
      "Requirement already satisfied: threadpoolctl>=3.1.0 in c:\\users\\hireni pujara\\appdata\\local\\programs\\python\\python312\\lib\\site-packages (from scikit-learn) (3.5.0)\n"
     ]
    }
   ],
   "source": [
    "!pip install scikit-learn scipy "
   ]
  },
  {
   "cell_type": "code",
   "execution_count": 6,
   "id": "830a77ef-6b24-473f-89d0-d2ea2bd8ede6",
   "metadata": {},
   "outputs": [
    {
     "name": "stdout",
     "output_type": "stream",
     "text": [
      "Collecting tensorflow\n",
      "  Using cached tensorflow-2.16.1-cp312-cp312-win_amd64.whl.metadata (3.5 kB)\n",
      "Collecting keras\n",
      "  Using cached keras-3.3.3-py3-none-any.whl.metadata (5.7 kB)\n",
      "Requirement already satisfied: torch in c:\\users\\hireni pujara\\appdata\\local\\programs\\python\\python312\\lib\\site-packages (2.3.1)\n",
      "Collecting tensorflow-intel==2.16.1 (from tensorflow)\n",
      "  Using cached tensorflow_intel-2.16.1-cp312-cp312-win_amd64.whl.metadata (5.0 kB)\n",
      "Requirement already satisfied: absl-py>=1.0.0 in c:\\users\\hireni pujara\\appdata\\local\\programs\\python\\python312\\lib\\site-packages (from tensorflow-intel==2.16.1->tensorflow) (2.1.0)\n",
      "Collecting astunparse>=1.6.0 (from tensorflow-intel==2.16.1->tensorflow)\n",
      "  Using cached astunparse-1.6.3-py2.py3-none-any.whl.metadata (4.4 kB)\n",
      "Requirement already satisfied: flatbuffers>=23.5.26 in c:\\users\\hireni pujara\\appdata\\local\\programs\\python\\python312\\lib\\site-packages (from tensorflow-intel==2.16.1->tensorflow) (24.3.25)\n",
      "Requirement already satisfied: gast!=0.5.0,!=0.5.1,!=0.5.2,>=0.2.1 in c:\\users\\hireni pujara\\appdata\\local\\programs\\python\\python312\\lib\\site-packages (from tensorflow-intel==2.16.1->tensorflow) (0.5.4)\n",
      "Requirement already satisfied: google-pasta>=0.1.1 in c:\\users\\hireni pujara\\appdata\\local\\programs\\python\\python312\\lib\\site-packages (from tensorflow-intel==2.16.1->tensorflow) (0.2.0)\n",
      "Collecting h5py>=3.10.0 (from tensorflow-intel==2.16.1->tensorflow)\n",
      "  Using cached h5py-3.11.0-cp312-cp312-win_amd64.whl.metadata (2.5 kB)\n",
      "Requirement already satisfied: libclang>=13.0.0 in c:\\users\\hireni pujara\\appdata\\local\\programs\\python\\python312\\lib\\site-packages (from tensorflow-intel==2.16.1->tensorflow) (18.1.1)\n",
      "Collecting ml-dtypes~=0.3.1 (from tensorflow-intel==2.16.1->tensorflow)\n",
      "  Using cached ml_dtypes-0.3.2-cp312-cp312-win_amd64.whl.metadata (20 kB)\n",
      "Collecting opt-einsum>=2.3.2 (from tensorflow-intel==2.16.1->tensorflow)\n",
      "  Using cached opt_einsum-3.3.0-py3-none-any.whl.metadata (6.5 kB)\n",
      "Requirement already satisfied: packaging in c:\\users\\hireni pujara\\appdata\\local\\programs\\python\\python312\\lib\\site-packages (from tensorflow-intel==2.16.1->tensorflow) (24.1)\n",
      "Requirement already satisfied: protobuf!=4.21.0,!=4.21.1,!=4.21.2,!=4.21.3,!=4.21.4,!=4.21.5,<5.0.0dev,>=3.20.3 in c:\\users\\hireni pujara\\appdata\\local\\programs\\python\\python312\\lib\\site-packages (from tensorflow-intel==2.16.1->tensorflow) (4.25.3)\n",
      "Requirement already satisfied: requests<3,>=2.21.0 in c:\\users\\hireni pujara\\appdata\\local\\programs\\python\\python312\\lib\\site-packages (from tensorflow-intel==2.16.1->tensorflow) (2.32.3)\n",
      "Requirement already satisfied: setuptools in c:\\users\\hireni pujara\\appdata\\local\\programs\\python\\python312\\lib\\site-packages (from tensorflow-intel==2.16.1->tensorflow) (70.0.0)\n",
      "Requirement already satisfied: six>=1.12.0 in c:\\users\\hireni pujara\\appdata\\local\\programs\\python\\python312\\lib\\site-packages (from tensorflow-intel==2.16.1->tensorflow) (1.16.0)\n",
      "Requirement already satisfied: termcolor>=1.1.0 in c:\\users\\hireni pujara\\appdata\\local\\programs\\python\\python312\\lib\\site-packages (from tensorflow-intel==2.16.1->tensorflow) (2.4.0)\n",
      "Requirement already satisfied: typing-extensions>=3.6.6 in c:\\users\\hireni pujara\\appdata\\local\\programs\\python\\python312\\lib\\site-packages (from tensorflow-intel==2.16.1->tensorflow) (4.12.2)\n",
      "Requirement already satisfied: wrapt>=1.11.0 in c:\\users\\hireni pujara\\appdata\\local\\programs\\python\\python312\\lib\\site-packages (from tensorflow-intel==2.16.1->tensorflow) (1.16.0)\n",
      "Requirement already satisfied: grpcio<2.0,>=1.24.3 in c:\\users\\hireni pujara\\appdata\\local\\programs\\python\\python312\\lib\\site-packages (from tensorflow-intel==2.16.1->tensorflow) (1.64.1)\n",
      "Requirement already satisfied: tensorboard<2.17,>=2.16 in c:\\users\\hireni pujara\\appdata\\local\\programs\\python\\python312\\lib\\site-packages (from tensorflow-intel==2.16.1->tensorflow) (2.16.2)\n",
      "Requirement already satisfied: numpy<2.0.0,>=1.26.0 in c:\\users\\hireni pujara\\appdata\\local\\programs\\python\\python312\\lib\\site-packages (from tensorflow-intel==2.16.1->tensorflow) (1.26.4)\n",
      "Collecting rich (from keras)\n",
      "  Using cached rich-13.7.1-py3-none-any.whl.metadata (18 kB)\n",
      "Requirement already satisfied: namex in c:\\users\\hireni pujara\\appdata\\local\\programs\\python\\python312\\lib\\site-packages (from keras) (0.0.8)\n",
      "Collecting optree (from keras)\n",
      "  Using cached optree-0.11.0-cp312-cp312-win_amd64.whl.metadata (46 kB)\n",
      "Requirement already satisfied: filelock in c:\\users\\hireni pujara\\appdata\\local\\programs\\python\\python312\\lib\\site-packages (from torch) (3.15.3)\n",
      "Requirement already satisfied: sympy in c:\\users\\hireni pujara\\appdata\\local\\programs\\python\\python312\\lib\\site-packages (from torch) (1.12.1)\n",
      "Requirement already satisfied: networkx in c:\\users\\hireni pujara\\appdata\\local\\programs\\python\\python312\\lib\\site-packages (from torch) (3.3)\n",
      "Requirement already satisfied: jinja2 in c:\\users\\hireni pujara\\appdata\\local\\programs\\python\\python312\\lib\\site-packages (from torch) (3.1.4)\n",
      "Requirement already satisfied: fsspec in c:\\users\\hireni pujara\\appdata\\local\\programs\\python\\python312\\lib\\site-packages (from torch) (2024.6.0)\n",
      "Requirement already satisfied: mkl<=2021.4.0,>=2021.1.1 in c:\\users\\hireni pujara\\appdata\\local\\programs\\python\\python312\\lib\\site-packages (from torch) (2021.4.0)\n",
      "Requirement already satisfied: intel-openmp==2021.* in c:\\users\\hireni pujara\\appdata\\local\\programs\\python\\python312\\lib\\site-packages (from mkl<=2021.4.0,>=2021.1.1->torch) (2021.4.0)\n",
      "Requirement already satisfied: tbb==2021.* in c:\\users\\hireni pujara\\appdata\\local\\programs\\python\\python312\\lib\\site-packages (from mkl<=2021.4.0,>=2021.1.1->torch) (2021.13.0)\n",
      "Requirement already satisfied: MarkupSafe>=2.0 in c:\\users\\hireni pujara\\appdata\\local\\programs\\python\\python312\\lib\\site-packages (from jinja2->torch) (2.1.5)\n",
      "Collecting markdown-it-py>=2.2.0 (from rich->keras)\n",
      "  Using cached markdown_it_py-3.0.0-py3-none-any.whl.metadata (6.9 kB)\n",
      "Requirement already satisfied: pygments<3.0.0,>=2.13.0 in c:\\users\\hireni pujara\\appdata\\local\\programs\\python\\python312\\lib\\site-packages (from rich->keras) (2.18.0)\n",
      "Requirement already satisfied: mpmath<1.4.0,>=1.1.0 in c:\\users\\hireni pujara\\appdata\\local\\programs\\python\\python312\\lib\\site-packages (from sympy->torch) (1.3.0)\n",
      "Requirement already satisfied: wheel<1.0,>=0.23.0 in c:\\users\\hireni pujara\\appdata\\local\\programs\\python\\python312\\lib\\site-packages (from astunparse>=1.6.0->tensorflow-intel==2.16.1->tensorflow) (0.43.0)\n",
      "Requirement already satisfied: mdurl~=0.1 in c:\\users\\hireni pujara\\appdata\\local\\programs\\python\\python312\\lib\\site-packages (from markdown-it-py>=2.2.0->rich->keras) (0.1.2)\n",
      "Requirement already satisfied: charset-normalizer<4,>=2 in c:\\users\\hireni pujara\\appdata\\local\\programs\\python\\python312\\lib\\site-packages (from requests<3,>=2.21.0->tensorflow-intel==2.16.1->tensorflow) (3.3.2)\n",
      "Requirement already satisfied: idna<4,>=2.5 in c:\\users\\hireni pujara\\appdata\\local\\programs\\python\\python312\\lib\\site-packages (from requests<3,>=2.21.0->tensorflow-intel==2.16.1->tensorflow) (3.7)\n",
      "Requirement already satisfied: urllib3<3,>=1.21.1 in c:\\users\\hireni pujara\\appdata\\local\\programs\\python\\python312\\lib\\site-packages (from requests<3,>=2.21.0->tensorflow-intel==2.16.1->tensorflow) (2.2.1)\n",
      "Requirement already satisfied: certifi>=2017.4.17 in c:\\users\\hireni pujara\\appdata\\local\\programs\\python\\python312\\lib\\site-packages (from requests<3,>=2.21.0->tensorflow-intel==2.16.1->tensorflow) (2024.6.2)\n",
      "Requirement already satisfied: markdown>=2.6.8 in c:\\users\\hireni pujara\\appdata\\local\\programs\\python\\python312\\lib\\site-packages (from tensorboard<2.17,>=2.16->tensorflow-intel==2.16.1->tensorflow) (3.6)\n",
      "Requirement already satisfied: tensorboard-data-server<0.8.0,>=0.7.0 in c:\\users\\hireni pujara\\appdata\\local\\programs\\python\\python312\\lib\\site-packages (from tensorboard<2.17,>=2.16->tensorflow-intel==2.16.1->tensorflow) (0.7.2)\n",
      "Requirement already satisfied: werkzeug>=1.0.1 in c:\\users\\hireni pujara\\appdata\\local\\programs\\python\\python312\\lib\\site-packages (from tensorboard<2.17,>=2.16->tensorflow-intel==2.16.1->tensorflow) (3.0.3)\n",
      "Using cached tensorflow-2.16.1-cp312-cp312-win_amd64.whl (2.1 kB)\n",
      "Using cached tensorflow_intel-2.16.1-cp312-cp312-win_amd64.whl (377.1 MB)\n",
      "Using cached keras-3.3.3-py3-none-any.whl (1.1 MB)\n",
      "Using cached h5py-3.11.0-cp312-cp312-win_amd64.whl (3.0 MB)\n",
      "Using cached ml_dtypes-0.3.2-cp312-cp312-win_amd64.whl (128 kB)\n",
      "Using cached optree-0.11.0-cp312-cp312-win_amd64.whl (241 kB)\n",
      "Using cached rich-13.7.1-py3-none-any.whl (240 kB)\n",
      "Using cached astunparse-1.6.3-py2.py3-none-any.whl (12 kB)\n",
      "Using cached markdown_it_py-3.0.0-py3-none-any.whl (87 kB)\n",
      "Using cached opt_einsum-3.3.0-py3-none-any.whl (65 kB)\n",
      "Installing collected packages: optree, opt-einsum, ml-dtypes, markdown-it-py, h5py, astunparse, rich, keras, tensorflow-intel, tensorflow\n",
      "Successfully installed astunparse-1.6.3 h5py-3.11.0 keras-3.3.3 markdown-it-py-3.0.0 ml-dtypes-0.3.2 opt-einsum-3.3.0 optree-0.11.0 rich-13.7.1 tensorflow-2.16.1 tensorflow-intel-2.16.1\n"
     ]
    }
   ],
   "source": [
    "!pip install tensorflow keras torch"
   ]
  },
  {
   "cell_type": "code",
   "execution_count": 7,
   "id": "c6baf48a-0dc8-4b6e-a934-0fc3fc329309",
   "metadata": {},
   "outputs": [
    {
     "name": "stdout",
     "output_type": "stream",
     "text": [
      "Collecting xgboost\n",
      "  Using cached xgboost-2.1.0-py3-none-win_amd64.whl.metadata (2.1 kB)\n",
      "Collecting lightgbm\n",
      "  Using cached lightgbm-4.4.0-py3-none-win_amd64.whl.metadata (19 kB)\n",
      "Collecting statsmodels\n",
      "  Using cached statsmodels-0.14.2-cp312-cp312-win_amd64.whl.metadata (9.5 kB)\n",
      "Requirement already satisfied: numpy in c:\\users\\hireni pujara\\appdata\\local\\programs\\python\\python312\\lib\\site-packages (from xgboost) (1.26.4)\n",
      "Requirement already satisfied: scipy in c:\\users\\hireni pujara\\appdata\\local\\programs\\python\\python312\\lib\\site-packages (from xgboost) (1.13.1)\n",
      "Requirement already satisfied: pandas!=2.1.0,>=1.4 in c:\\users\\hireni pujara\\appdata\\local\\programs\\python\\python312\\lib\\site-packages (from statsmodels) (2.2.2)\n",
      "Collecting patsy>=0.5.6 (from statsmodels)\n",
      "  Using cached patsy-0.5.6-py2.py3-none-any.whl.metadata (3.5 kB)\n",
      "Requirement already satisfied: packaging>=21.3 in c:\\users\\hireni pujara\\appdata\\local\\programs\\python\\python312\\lib\\site-packages (from statsmodels) (24.1)\n",
      "Requirement already satisfied: python-dateutil>=2.8.2 in c:\\users\\hireni pujara\\appdata\\local\\programs\\python\\python312\\lib\\site-packages (from pandas!=2.1.0,>=1.4->statsmodels) (2.9.0.post0)\n",
      "Requirement already satisfied: pytz>=2020.1 in c:\\users\\hireni pujara\\appdata\\local\\programs\\python\\python312\\lib\\site-packages (from pandas!=2.1.0,>=1.4->statsmodels) (2024.1)\n",
      "Requirement already satisfied: tzdata>=2022.7 in c:\\users\\hireni pujara\\appdata\\local\\programs\\python\\python312\\lib\\site-packages (from pandas!=2.1.0,>=1.4->statsmodels) (2024.1)\n",
      "Requirement already satisfied: six in c:\\users\\hireni pujara\\appdata\\local\\programs\\python\\python312\\lib\\site-packages (from patsy>=0.5.6->statsmodels) (1.16.0)\n",
      "Using cached xgboost-2.1.0-py3-none-win_amd64.whl (124.9 MB)\n",
      "Using cached lightgbm-4.4.0-py3-none-win_amd64.whl (1.4 MB)\n",
      "Using cached statsmodels-0.14.2-cp312-cp312-win_amd64.whl (9.8 MB)\n",
      "Using cached patsy-0.5.6-py2.py3-none-any.whl (233 kB)\n",
      "Installing collected packages: patsy, xgboost, lightgbm, statsmodels\n",
      "Successfully installed lightgbm-4.4.0 patsy-0.5.6 statsmodels-0.14.2 xgboost-2.1.0\n"
     ]
    }
   ],
   "source": [
    "!pip install  xgboost lightgbm statsmodels "
   ]
  },
  {
   "cell_type": "code",
   "execution_count": 8,
   "id": "5f145059-c2cf-4908-9313-f9457c48a5a0",
   "metadata": {},
   "outputs": [
    {
     "name": "stdout",
     "output_type": "stream",
     "text": [
      "Requirement already satisfied: beautifulsoup4 in c:\\users\\hireni pujara\\appdata\\local\\programs\\python\\python312\\lib\\site-packages (4.12.3)\n",
      "Requirement already satisfied: requests in c:\\users\\hireni pujara\\appdata\\local\\programs\\python\\python312\\lib\\site-packages (2.32.3)\n",
      "Requirement already satisfied: tqdm in c:\\users\\hireni pujara\\appdata\\local\\programs\\python\\python312\\lib\\site-packages (4.66.4)\n",
      "Collecting pydantic\n",
      "  Using cached pydantic-2.7.4-py3-none-any.whl.metadata (109 kB)\n",
      "Requirement already satisfied: soupsieve>1.2 in c:\\users\\hireni pujara\\appdata\\local\\programs\\python\\python312\\lib\\site-packages (from beautifulsoup4) (2.5)\n",
      "Requirement already satisfied: charset-normalizer<4,>=2 in c:\\users\\hireni pujara\\appdata\\local\\programs\\python\\python312\\lib\\site-packages (from requests) (3.3.2)\n",
      "Requirement already satisfied: idna<4,>=2.5 in c:\\users\\hireni pujara\\appdata\\local\\programs\\python\\python312\\lib\\site-packages (from requests) (3.7)\n",
      "Requirement already satisfied: urllib3<3,>=1.21.1 in c:\\users\\hireni pujara\\appdata\\local\\programs\\python\\python312\\lib\\site-packages (from requests) (2.2.1)\n",
      "Requirement already satisfied: certifi>=2017.4.17 in c:\\users\\hireni pujara\\appdata\\local\\programs\\python\\python312\\lib\\site-packages (from requests) (2024.6.2)\n",
      "Requirement already satisfied: colorama in c:\\users\\hireni pujara\\appdata\\local\\programs\\python\\python312\\lib\\site-packages (from tqdm) (0.4.6)\n",
      "Requirement already satisfied: annotated-types>=0.4.0 in c:\\users\\hireni pujara\\appdata\\local\\programs\\python\\python312\\lib\\site-packages (from pydantic) (0.7.0)\n",
      "Requirement already satisfied: pydantic-core==2.18.4 in c:\\users\\hireni pujara\\appdata\\local\\programs\\python\\python312\\lib\\site-packages (from pydantic) (2.18.4)\n",
      "Requirement already satisfied: typing-extensions>=4.6.1 in c:\\users\\hireni pujara\\appdata\\local\\programs\\python\\python312\\lib\\site-packages (from pydantic) (4.12.2)\n",
      "Using cached pydantic-2.7.4-py3-none-any.whl (409 kB)\n",
      "Installing collected packages: pydantic\n",
      "Successfully installed pydantic-2.7.4\n"
     ]
    }
   ],
   "source": [
    "!pip install beautifulsoup4 requests tqdm pydantic"
   ]
  },
  {
   "cell_type": "code",
   "execution_count": 9,
   "id": "e640c226-c644-4075-b241-544f988eda0e",
   "metadata": {},
   "outputs": [
    {
     "name": "stdout",
     "output_type": "stream",
     "text": [
      "Requirement already satisfied: sqlalchemy in c:\\users\\hireni pujara\\appdata\\local\\programs\\python\\python312\\lib\\site-packages (2.0.31)\n",
      "Requirement already satisfied: plotly in c:\\users\\hireni pujara\\appdata\\local\\programs\\python\\python312\\lib\\site-packages (5.22.0)\n",
      "Collecting bokeh\n",
      "  Using cached bokeh-3.4.1-py3-none-any.whl.metadata (12 kB)\n",
      "Collecting nltk\n",
      "  Using cached nltk-3.8.1-py3-none-any.whl.metadata (2.8 kB)\n",
      "Collecting spacy\n",
      "  Using cached spacy-3.7.5-cp312-cp312-win_amd64.whl.metadata (27 kB)\n",
      "Collecting textblob\n",
      "  Using cached textblob-0.18.0.post0-py3-none-any.whl.metadata (4.5 kB)\n",
      "Collecting flask\n",
      "  Using cached flask-3.0.3-py3-none-any.whl.metadata (3.2 kB)\n",
      "Collecting django\n",
      "  Using cached Django-5.0.6-py3-none-any.whl.metadata (4.1 kB)\n",
      "Collecting fastapi\n",
      "  Using cached fastapi-0.111.0-py3-none-any.whl.metadata (25 kB)\n",
      "Collecting docker\n",
      "  Using cached docker-7.1.0-py3-none-any.whl.metadata (3.8 kB)\n",
      "Collecting celery\n",
      "  Using cached celery-5.4.0-py3-none-any.whl.metadata (21 kB)\n",
      "Requirement already satisfied: pytest in c:\\users\\hireni pujara\\appdata\\local\\programs\\python\\python312\\lib\\site-packages (8.2.2)\n",
      "Collecting opencv-python\n",
      "  Using cached opencv_python-4.10.0.84-cp37-abi3-win_amd64.whl.metadata (20 kB)\n",
      "Requirement already satisfied: pillow in c:\\users\\hireni pujara\\appdata\\local\\programs\\python\\python312\\lib\\site-packages (10.3.0)\n",
      "Requirement already satisfied: typing-extensions>=4.6.0 in c:\\users\\hireni pujara\\appdata\\local\\programs\\python\\python312\\lib\\site-packages (from sqlalchemy) (4.12.2)\n",
      "Requirement already satisfied: greenlet!=0.4.17 in c:\\users\\hireni pujara\\appdata\\local\\programs\\python\\python312\\lib\\site-packages (from sqlalchemy) (3.0.3)\n",
      "Requirement already satisfied: tenacity>=6.2.0 in c:\\users\\hireni pujara\\appdata\\local\\programs\\python\\python312\\lib\\site-packages (from plotly) (8.4.1)\n",
      "Requirement already satisfied: packaging in c:\\users\\hireni pujara\\appdata\\local\\programs\\python\\python312\\lib\\site-packages (from plotly) (24.1)\n",
      "Requirement already satisfied: Jinja2>=2.9 in c:\\users\\hireni pujara\\appdata\\local\\programs\\python\\python312\\lib\\site-packages (from bokeh) (3.1.4)\n",
      "Requirement already satisfied: contourpy>=1.2 in c:\\users\\hireni pujara\\appdata\\local\\programs\\python\\python312\\lib\\site-packages (from bokeh) (1.2.1)\n",
      "Requirement already satisfied: numpy>=1.16 in c:\\users\\hireni pujara\\appdata\\local\\programs\\python\\python312\\lib\\site-packages (from bokeh) (1.26.4)\n",
      "Requirement already satisfied: pandas>=1.2 in c:\\users\\hireni pujara\\appdata\\local\\programs\\python\\python312\\lib\\site-packages (from bokeh) (2.2.2)\n",
      "Requirement already satisfied: PyYAML>=3.10 in c:\\users\\hireni pujara\\appdata\\local\\programs\\python\\python312\\lib\\site-packages (from bokeh) (6.0.1)\n",
      "Requirement already satisfied: tornado>=6.2 in c:\\users\\hireni pujara\\appdata\\local\\programs\\python\\python312\\lib\\site-packages (from bokeh) (6.4.1)\n",
      "Requirement already satisfied: xyzservices>=2021.09.1 in c:\\users\\hireni pujara\\appdata\\local\\programs\\python\\python312\\lib\\site-packages (from bokeh) (2024.6.0)\n",
      "Requirement already satisfied: click in c:\\users\\hireni pujara\\appdata\\local\\programs\\python\\python312\\lib\\site-packages (from nltk) (8.1.7)\n",
      "Requirement already satisfied: joblib in c:\\users\\hireni pujara\\appdata\\local\\programs\\python\\python312\\lib\\site-packages (from nltk) (1.4.2)\n",
      "Requirement already satisfied: regex>=2021.8.3 in c:\\users\\hireni pujara\\appdata\\local\\programs\\python\\python312\\lib\\site-packages (from nltk) (2024.5.15)\n",
      "Requirement already satisfied: tqdm in c:\\users\\hireni pujara\\appdata\\local\\programs\\python\\python312\\lib\\site-packages (from nltk) (4.66.4)\n",
      "Requirement already satisfied: spacy-legacy<3.1.0,>=3.0.11 in c:\\users\\hireni pujara\\appdata\\local\\programs\\python\\python312\\lib\\site-packages (from spacy) (3.0.12)\n",
      "Requirement already satisfied: spacy-loggers<2.0.0,>=1.0.0 in c:\\users\\hireni pujara\\appdata\\local\\programs\\python\\python312\\lib\\site-packages (from spacy) (1.0.5)\n",
      "Requirement already satisfied: murmurhash<1.1.0,>=0.28.0 in c:\\users\\hireni pujara\\appdata\\local\\programs\\python\\python312\\lib\\site-packages (from spacy) (1.0.10)\n",
      "Requirement already satisfied: cymem<2.1.0,>=2.0.2 in c:\\users\\hireni pujara\\appdata\\local\\programs\\python\\python312\\lib\\site-packages (from spacy) (2.0.8)\n",
      "Requirement already satisfied: preshed<3.1.0,>=3.0.2 in c:\\users\\hireni pujara\\appdata\\local\\programs\\python\\python312\\lib\\site-packages (from spacy) (3.0.9)\n",
      "Collecting thinc<8.3.0,>=8.2.2 (from spacy)\n",
      "  Using cached thinc-8.2.5-cp312-cp312-win_amd64.whl.metadata (15 kB)\n",
      "Requirement already satisfied: wasabi<1.2.0,>=0.9.1 in c:\\users\\hireni pujara\\appdata\\local\\programs\\python\\python312\\lib\\site-packages (from spacy) (1.1.3)\n",
      "Requirement already satisfied: srsly<3.0.0,>=2.4.3 in c:\\users\\hireni pujara\\appdata\\local\\programs\\python\\python312\\lib\\site-packages (from spacy) (2.4.8)\n",
      "Requirement already satisfied: catalogue<2.1.0,>=2.0.6 in c:\\users\\hireni pujara\\appdata\\local\\programs\\python\\python312\\lib\\site-packages (from spacy) (2.0.10)\n",
      "Collecting weasel<0.5.0,>=0.1.0 (from spacy)\n",
      "  Using cached weasel-0.4.1-py3-none-any.whl.metadata (4.6 kB)\n",
      "Collecting typer<1.0.0,>=0.3.0 (from spacy)\n",
      "  Using cached typer-0.12.3-py3-none-any.whl.metadata (15 kB)\n",
      "Requirement already satisfied: requests<3.0.0,>=2.13.0 in c:\\users\\hireni pujara\\appdata\\local\\programs\\python\\python312\\lib\\site-packages (from spacy) (2.32.3)\n",
      "Requirement already satisfied: pydantic!=1.8,!=1.8.1,<3.0.0,>=1.7.4 in c:\\users\\hireni pujara\\appdata\\local\\programs\\python\\python312\\lib\\site-packages (from spacy) (2.7.4)\n",
      "Requirement already satisfied: setuptools in c:\\users\\hireni pujara\\appdata\\local\\programs\\python\\python312\\lib\\site-packages (from spacy) (70.0.0)\n",
      "Collecting langcodes<4.0.0,>=3.2.0 (from spacy)\n",
      "  Using cached langcodes-3.4.0-py3-none-any.whl.metadata (29 kB)\n",
      "Requirement already satisfied: Werkzeug>=3.0.0 in c:\\users\\hireni pujara\\appdata\\local\\programs\\python\\python312\\lib\\site-packages (from flask) (3.0.3)\n",
      "Requirement already satisfied: itsdangerous>=2.1.2 in c:\\users\\hireni pujara\\appdata\\local\\programs\\python\\python312\\lib\\site-packages (from flask) (2.2.0)\n",
      "Requirement already satisfied: blinker>=1.6.2 in c:\\users\\hireni pujara\\appdata\\local\\programs\\python\\python312\\lib\\site-packages (from flask) (1.8.2)\n",
      "Requirement already satisfied: asgiref<4,>=3.7.0 in c:\\users\\hireni pujara\\appdata\\local\\programs\\python\\python312\\lib\\site-packages (from django) (3.8.1)\n",
      "Requirement already satisfied: sqlparse>=0.3.1 in c:\\users\\hireni pujara\\appdata\\local\\programs\\python\\python312\\lib\\site-packages (from django) (0.5.0)\n",
      "Requirement already satisfied: tzdata in c:\\users\\hireni pujara\\appdata\\local\\programs\\python\\python312\\lib\\site-packages (from django) (2024.1)\n",
      "Requirement already satisfied: starlette<0.38.0,>=0.37.2 in c:\\users\\hireni pujara\\appdata\\local\\programs\\python\\python312\\lib\\site-packages (from fastapi) (0.37.2)\n",
      "Collecting fastapi-cli>=0.0.2 (from fastapi)\n",
      "  Using cached fastapi_cli-0.0.4-py3-none-any.whl.metadata (7.0 kB)\n",
      "Requirement already satisfied: httpx>=0.23.0 in c:\\users\\hireni pujara\\appdata\\local\\programs\\python\\python312\\lib\\site-packages (from fastapi) (0.27.0)\n",
      "Requirement already satisfied: python-multipart>=0.0.7 in c:\\users\\hireni pujara\\appdata\\local\\programs\\python\\python312\\lib\\site-packages (from fastapi) (0.0.9)\n",
      "Requirement already satisfied: ujson!=4.0.2,!=4.1.0,!=4.2.0,!=4.3.0,!=5.0.0,!=5.1.0,>=4.0.1 in c:\\users\\hireni pujara\\appdata\\local\\programs\\python\\python312\\lib\\site-packages (from fastapi) (5.10.0)\n",
      "Requirement already satisfied: orjson>=3.2.1 in c:\\users\\hireni pujara\\appdata\\local\\programs\\python\\python312\\lib\\site-packages (from fastapi) (3.10.5)\n",
      "Collecting email_validator>=2.0.0 (from fastapi)\n",
      "  Using cached email_validator-2.2.0-py3-none-any.whl.metadata (25 kB)\n",
      "Requirement already satisfied: uvicorn>=0.12.0 in c:\\users\\hireni pujara\\appdata\\local\\programs\\python\\python312\\lib\\site-packages (from uvicorn[standard]>=0.12.0->fastapi) (0.30.1)\n",
      "Requirement already satisfied: pywin32>=304 in c:\\users\\hireni pujara\\appdata\\local\\programs\\python\\python312\\lib\\site-packages (from docker) (306)\n",
      "Requirement already satisfied: urllib3>=1.26.0 in c:\\users\\hireni pujara\\appdata\\local\\programs\\python\\python312\\lib\\site-packages (from docker) (2.2.1)\n",
      "Requirement already satisfied: billiard<5.0,>=4.2.0 in c:\\users\\hireni pujara\\appdata\\local\\programs\\python\\python312\\lib\\site-packages (from celery) (4.2.0)\n",
      "Collecting kombu<6.0,>=5.3.4 (from celery)\n",
      "  Using cached kombu-5.3.7-py3-none-any.whl.metadata (3.1 kB)\n",
      "Requirement already satisfied: vine<6.0,>=5.1.0 in c:\\users\\hireni pujara\\appdata\\local\\programs\\python\\python312\\lib\\site-packages (from celery) (5.1.0)\n",
      "Collecting click-didyoumean>=0.3.0 (from celery)\n",
      "  Using cached click_didyoumean-0.3.1-py3-none-any.whl.metadata (3.9 kB)\n",
      "Collecting click-repl>=0.2.0 (from celery)\n",
      "  Using cached click_repl-0.3.0-py3-none-any.whl.metadata (3.6 kB)\n",
      "Collecting click-plugins>=1.1.1 (from celery)\n",
      "  Using cached click_plugins-1.1.1-py2.py3-none-any.whl.metadata (6.4 kB)\n",
      "Requirement already satisfied: python-dateutil>=2.8.2 in c:\\users\\hireni pujara\\appdata\\local\\programs\\python\\python312\\lib\\site-packages (from celery) (2.9.0.post0)\n",
      "Requirement already satisfied: iniconfig in c:\\users\\hireni pujara\\appdata\\local\\programs\\python\\python312\\lib\\site-packages (from pytest) (2.0.0)\n",
      "Requirement already satisfied: pluggy<2.0,>=1.5 in c:\\users\\hireni pujara\\appdata\\local\\programs\\python\\python312\\lib\\site-packages (from pytest) (1.5.0)\n",
      "Requirement already satisfied: colorama in c:\\users\\hireni pujara\\appdata\\local\\programs\\python\\python312\\lib\\site-packages (from pytest) (0.4.6)\n",
      "Requirement already satisfied: prompt-toolkit>=3.0.36 in c:\\users\\hireni pujara\\appdata\\local\\programs\\python\\python312\\lib\\site-packages (from click-repl>=0.2.0->celery) (3.0.47)\n",
      "Requirement already satisfied: dnspython>=2.0.0 in c:\\users\\hireni pujara\\appdata\\local\\programs\\python\\python312\\lib\\site-packages (from email_validator>=2.0.0->fastapi) (2.6.1)\n",
      "Requirement already satisfied: idna>=2.0.0 in c:\\users\\hireni pujara\\appdata\\local\\programs\\python\\python312\\lib\\site-packages (from email_validator>=2.0.0->fastapi) (3.7)\n",
      "Requirement already satisfied: anyio in c:\\users\\hireni pujara\\appdata\\local\\programs\\python\\python312\\lib\\site-packages (from httpx>=0.23.0->fastapi) (4.4.0)\n",
      "Requirement already satisfied: certifi in c:\\users\\hireni pujara\\appdata\\local\\programs\\python\\python312\\lib\\site-packages (from httpx>=0.23.0->fastapi) (2024.6.2)\n",
      "Requirement already satisfied: httpcore==1.* in c:\\users\\hireni pujara\\appdata\\local\\programs\\python\\python312\\lib\\site-packages (from httpx>=0.23.0->fastapi) (1.0.5)\n",
      "Requirement already satisfied: sniffio in c:\\users\\hireni pujara\\appdata\\local\\programs\\python\\python312\\lib\\site-packages (from httpx>=0.23.0->fastapi) (1.3.1)\n",
      "Requirement already satisfied: h11<0.15,>=0.13 in c:\\users\\hireni pujara\\appdata\\local\\programs\\python\\python312\\lib\\site-packages (from httpcore==1.*->httpx>=0.23.0->fastapi) (0.14.0)\n",
      "Requirement already satisfied: MarkupSafe>=2.0 in c:\\users\\hireni pujara\\appdata\\local\\programs\\python\\python312\\lib\\site-packages (from Jinja2>=2.9->bokeh) (2.1.5)\n",
      "Collecting amqp<6.0.0,>=5.1.1 (from kombu<6.0,>=5.3.4->celery)\n",
      "  Using cached amqp-5.2.0-py3-none-any.whl.metadata (8.9 kB)\n",
      "Collecting language-data>=1.2 (from langcodes<4.0.0,>=3.2.0->spacy)\n",
      "  Using cached language_data-1.2.0-py3-none-any.whl.metadata (4.3 kB)\n",
      "Requirement already satisfied: pytz>=2020.1 in c:\\users\\hireni pujara\\appdata\\local\\programs\\python\\python312\\lib\\site-packages (from pandas>=1.2->bokeh) (2024.1)\n",
      "Requirement already satisfied: annotated-types>=0.4.0 in c:\\users\\hireni pujara\\appdata\\local\\programs\\python\\python312\\lib\\site-packages (from pydantic!=1.8,!=1.8.1,<3.0.0,>=1.7.4->spacy) (0.7.0)\n",
      "Requirement already satisfied: pydantic-core==2.18.4 in c:\\users\\hireni pujara\\appdata\\local\\programs\\python\\python312\\lib\\site-packages (from pydantic!=1.8,!=1.8.1,<3.0.0,>=1.7.4->spacy) (2.18.4)\n",
      "Requirement already satisfied: six>=1.5 in c:\\users\\hireni pujara\\appdata\\local\\programs\\python\\python312\\lib\\site-packages (from python-dateutil>=2.8.2->celery) (1.16.0)\n",
      "Requirement already satisfied: charset-normalizer<4,>=2 in c:\\users\\hireni pujara\\appdata\\local\\programs\\python\\python312\\lib\\site-packages (from requests<3.0.0,>=2.13.0->spacy) (3.3.2)\n",
      "Collecting blis<0.8.0,>=0.7.8 (from thinc<8.3.0,>=8.2.2->spacy)\n",
      "  Using cached blis-0.7.11-cp312-cp312-win_amd64.whl.metadata (7.6 kB)\n",
      "Collecting confection<1.0.0,>=0.0.1 (from thinc<8.3.0,>=8.2.2->spacy)\n",
      "  Using cached confection-0.1.5-py3-none-any.whl.metadata (19 kB)\n",
      "Requirement already satisfied: shellingham>=1.3.0 in c:\\users\\hireni pujara\\appdata\\local\\programs\\python\\python312\\lib\\site-packages (from typer<1.0.0,>=0.3.0->spacy) (1.5.4)\n",
      "Requirement already satisfied: rich>=10.11.0 in c:\\users\\hireni pujara\\appdata\\local\\programs\\python\\python312\\lib\\site-packages (from typer<1.0.0,>=0.3.0->spacy) (13.7.1)\n",
      "Requirement already satisfied: httptools>=0.5.0 in c:\\users\\hireni pujara\\appdata\\local\\programs\\python\\python312\\lib\\site-packages (from uvicorn[standard]>=0.12.0->fastapi) (0.6.1)\n",
      "Requirement already satisfied: python-dotenv>=0.13 in c:\\users\\hireni pujara\\appdata\\local\\programs\\python\\python312\\lib\\site-packages (from uvicorn[standard]>=0.12.0->fastapi) (1.0.1)\n",
      "Requirement already satisfied: watchfiles>=0.13 in c:\\users\\hireni pujara\\appdata\\local\\programs\\python\\python312\\lib\\site-packages (from uvicorn[standard]>=0.12.0->fastapi) (0.22.0)\n",
      "Requirement already satisfied: websockets>=10.4 in c:\\users\\hireni pujara\\appdata\\local\\programs\\python\\python312\\lib\\site-packages (from uvicorn[standard]>=0.12.0->fastapi) (12.0)\n",
      "Requirement already satisfied: cloudpathlib<1.0.0,>=0.7.0 in c:\\users\\hireni pujara\\appdata\\local\\programs\\python\\python312\\lib\\site-packages (from weasel<0.5.0,>=0.1.0->spacy) (0.18.1)\n",
      "Requirement already satisfied: smart-open<8.0.0,>=5.2.1 in c:\\users\\hireni pujara\\appdata\\local\\programs\\python\\python312\\lib\\site-packages (from weasel<0.5.0,>=0.1.0->spacy) (7.0.4)\n",
      "Requirement already satisfied: marisa-trie>=0.7.7 in c:\\users\\hireni pujara\\appdata\\local\\programs\\python\\python312\\lib\\site-packages (from language-data>=1.2->langcodes<4.0.0,>=3.2.0->spacy) (1.2.0)\n",
      "Requirement already satisfied: wcwidth in c:\\users\\hireni pujara\\appdata\\local\\programs\\python\\python312\\lib\\site-packages (from prompt-toolkit>=3.0.36->click-repl>=0.2.0->celery) (0.2.13)\n",
      "Requirement already satisfied: markdown-it-py>=2.2.0 in c:\\users\\hireni pujara\\appdata\\local\\programs\\python\\python312\\lib\\site-packages (from rich>=10.11.0->typer<1.0.0,>=0.3.0->spacy) (3.0.0)\n",
      "Requirement already satisfied: pygments<3.0.0,>=2.13.0 in c:\\users\\hireni pujara\\appdata\\local\\programs\\python\\python312\\lib\\site-packages (from rich>=10.11.0->typer<1.0.0,>=0.3.0->spacy) (2.18.0)\n",
      "Requirement already satisfied: wrapt in c:\\users\\hireni pujara\\appdata\\local\\programs\\python\\python312\\lib\\site-packages (from smart-open<8.0.0,>=5.2.1->weasel<0.5.0,>=0.1.0->spacy) (1.16.0)\n",
      "Requirement already satisfied: mdurl~=0.1 in c:\\users\\hireni pujara\\appdata\\local\\programs\\python\\python312\\lib\\site-packages (from markdown-it-py>=2.2.0->rich>=10.11.0->typer<1.0.0,>=0.3.0->spacy) (0.1.2)\n",
      "Using cached bokeh-3.4.1-py3-none-any.whl (7.0 MB)\n",
      "Using cached nltk-3.8.1-py3-none-any.whl (1.5 MB)\n",
      "Using cached spacy-3.7.5-cp312-cp312-win_amd64.whl (11.7 MB)\n",
      "Using cached textblob-0.18.0.post0-py3-none-any.whl (626 kB)\n",
      "Using cached flask-3.0.3-py3-none-any.whl (101 kB)\n",
      "Using cached Django-5.0.6-py3-none-any.whl (8.2 MB)\n",
      "Using cached fastapi-0.111.0-py3-none-any.whl (91 kB)\n",
      "Using cached docker-7.1.0-py3-none-any.whl (147 kB)\n",
      "Using cached celery-5.4.0-py3-none-any.whl (425 kB)\n",
      "Using cached opencv_python-4.10.0.84-cp37-abi3-win_amd64.whl (38.8 MB)\n",
      "Using cached click_didyoumean-0.3.1-py3-none-any.whl (3.6 kB)\n",
      "Using cached click_plugins-1.1.1-py2.py3-none-any.whl (7.5 kB)\n",
      "Using cached click_repl-0.3.0-py3-none-any.whl (10 kB)\n",
      "Using cached email_validator-2.2.0-py3-none-any.whl (33 kB)\n",
      "Using cached fastapi_cli-0.0.4-py3-none-any.whl (9.5 kB)\n",
      "Using cached kombu-5.3.7-py3-none-any.whl (200 kB)\n",
      "Using cached langcodes-3.4.0-py3-none-any.whl (182 kB)\n",
      "Using cached thinc-8.2.5-cp312-cp312-win_amd64.whl (1.4 MB)\n",
      "Using cached typer-0.12.3-py3-none-any.whl (47 kB)\n",
      "Using cached weasel-0.4.1-py3-none-any.whl (50 kB)\n",
      "Using cached amqp-5.2.0-py3-none-any.whl (50 kB)\n",
      "Using cached blis-0.7.11-cp312-cp312-win_amd64.whl (6.6 MB)\n",
      "Using cached confection-0.1.5-py3-none-any.whl (35 kB)\n",
      "Using cached language_data-1.2.0-py3-none-any.whl (5.4 MB)\n",
      "Installing collected packages: opencv-python, email_validator, django, blis, amqp, nltk, language-data, kombu, flask, docker, click-repl, click-plugins, click-didyoumean, typer, textblob, langcodes, confection, celery, bokeh, weasel, thinc, fastapi-cli, spacy, fastapi\n",
      "Successfully installed amqp-5.2.0 blis-0.7.11 bokeh-3.4.1 celery-5.4.0 click-didyoumean-0.3.1 click-plugins-1.1.1 click-repl-0.3.0 confection-0.1.5 django-5.0.6 docker-7.1.0 email_validator-2.2.0 fastapi-0.111.0 fastapi-cli-0.0.4 flask-3.0.3 kombu-5.3.7 langcodes-3.4.0 language-data-1.2.0 nltk-3.8.1 opencv-python-4.10.0.84 spacy-3.7.5 textblob-0.18.0.post0 thinc-8.2.5 typer-0.12.3 weasel-0.4.1\n"
     ]
    }
   ],
   "source": [
    "!pip install sqlalchemy plotly bokeh nltk spacy textblob flask django fastapi docker celery pytest opencv-python pillow"
   ]
  },
  {
   "cell_type": "code",
   "execution_count": 11,
   "id": "de859855-e081-49e6-81a1-1ff4ca3d34f8",
   "metadata": {},
   "outputs": [
    {
     "name": "stdout",
     "output_type": "stream",
     "text": [
      "Collecting sklearn\n",
      "  Using cached sklearn-0.0.post12.tar.gz (2.6 kB)\n",
      "  Preparing metadata (setup.py): started\n",
      "  Preparing metadata (setup.py): finished with status 'error'\n"
     ]
    },
    {
     "name": "stderr",
     "output_type": "stream",
     "text": [
      "  error: subprocess-exited-with-error\n",
      "  \n",
      "  python setup.py egg_info did not run successfully.\n",
      "  exit code: 1\n",
      "  \n",
      "  [15 lines of output]\n",
      "  The 'sklearn' PyPI package is deprecated, use 'scikit-learn'\n",
      "  rather than 'sklearn' for pip commands.\n",
      "  \n",
      "  Here is how to fix this error in the main use cases:\n",
      "  - use 'pip install scikit-learn' rather than 'pip install sklearn'\n",
      "  - replace 'sklearn' by 'scikit-learn' in your pip requirements files\n",
      "    (requirements.txt, setup.py, setup.cfg, Pipfile, etc ...)\n",
      "  - if the 'sklearn' package is used by one of your dependencies,\n",
      "    it would be great if you take some time to track which package uses\n",
      "    'sklearn' instead of 'scikit-learn' and report it to their issue tracker\n",
      "  - as a last resort, set the environment variable\n",
      "    SKLEARN_ALLOW_DEPRECATED_SKLEARN_PACKAGE_INSTALL=True to avoid this error\n",
      "  \n",
      "  More information is available at\n",
      "  https://github.com/scikit-learn/sklearn-pypi-package\n",
      "  [end of output]\n",
      "  \n",
      "  note: This error originates from a subprocess, and is likely not a problem with pip.\n",
      "error: metadata-generation-failed\n",
      "\n",
      "Encountered error while generating package metadata.\n",
      "\n",
      "See above for output.\n",
      "\n",
      "note: This is an issue with the package mentioned above, not pip.\n",
      "hint: See above for details.\n"
     ]
    }
   ],
   "source": [
    "!pip install sklearn"
   ]
  },
  {
   "cell_type": "code",
   "execution_count": 12,
   "id": "9c1bd5d8-ab33-4f7d-895d-49bddb47092d",
   "metadata": {},
   "outputs": [
    {
     "name": "stdout",
     "output_type": "stream",
     "text": [
      "Requirement already satisfied: scikit-learn in c:\\users\\hireni pujara\\appdata\\local\\programs\\python\\python312\\lib\\site-packages (1.5.0)\n",
      "Requirement already satisfied: numpy>=1.19.5 in c:\\users\\hireni pujara\\appdata\\local\\programs\\python\\python312\\lib\\site-packages (from scikit-learn) (1.26.4)\n",
      "Requirement already satisfied: scipy>=1.6.0 in c:\\users\\hireni pujara\\appdata\\local\\programs\\python\\python312\\lib\\site-packages (from scikit-learn) (1.13.1)\n",
      "Requirement already satisfied: joblib>=1.2.0 in c:\\users\\hireni pujara\\appdata\\local\\programs\\python\\python312\\lib\\site-packages (from scikit-learn) (1.4.2)\n",
      "Requirement already satisfied: threadpoolctl>=3.1.0 in c:\\users\\hireni pujara\\appdata\\local\\programs\\python\\python312\\lib\\site-packages (from scikit-learn) (3.5.0)\n"
     ]
    }
   ],
   "source": [
    "!pip install scikit-learn"
   ]
  },
  {
   "cell_type": "code",
   "execution_count": 13,
   "id": "6f3bc88b-9f4f-461f-9206-666c2035dfd6",
   "metadata": {},
   "outputs": [
    {
     "name": "stderr",
     "output_type": "stream",
     "text": [
      "ERROR: Could not find a version that satisfies the requirement CountVectorizer (from versions: none)\n",
      "ERROR: No matching distribution found for CountVectorizer\n"
     ]
    }
   ],
   "source": [
    "!pip install CountVectorizer"
   ]
  },
  {
   "cell_type": "code",
   "execution_count": null,
   "id": "70470989-dde1-4747-98da-b581e6026ac2",
   "metadata": {},
   "outputs": [],
   "source": []
  }
 ],
 "metadata": {
  "kernelspec": {
   "display_name": "Python 3 (ipykernel)",
   "language": "python",
   "name": "python3"
  },
  "language_info": {
   "codemirror_mode": {
    "name": "ipython",
    "version": 3
   },
   "file_extension": ".py",
   "mimetype": "text/x-python",
   "name": "python",
   "nbconvert_exporter": "python",
   "pygments_lexer": "ipython3",
   "version": "3.12.4"
  }
 },
 "nbformat": 4,
 "nbformat_minor": 5
}
